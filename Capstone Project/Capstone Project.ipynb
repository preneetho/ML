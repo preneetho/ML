{
 "cells": [
  {
   "cell_type": "markdown",
   "metadata": {},
   "source": [
    "# House Price Prediction With ML"
   ]
  },
  {
   "cell_type": "markdown",
   "metadata": {},
   "source": [
    "#### Team Predictors\n",
    "* Sunil\n",
    "* Samuel \n",
    "* Sanjay\n",
    "* Preneeth"
   ]
  },
  {
   "cell_type": "markdown",
   "metadata": {},
   "source": [
    "### Introduction"
   ]
  },
  {
   "cell_type": "markdown",
   "metadata": {},
   "source": [
    "This project is about helping out house buyers & real estate owners in India to estimate the price of House in a given area. A price prediction tool needs to built using Machine Learning leveraging the past transcation data of various cities in india."
   ]
  },
  {
   "cell_type": "markdown",
   "metadata": {},
   "source": [
    "<img src=\"https://github.com/preneetho/ML/blob/master/Capstone%20Project/House1.jpg?raw=true\">"
   ]
  },
  {
   "cell_type": "markdown",
   "metadata": {},
   "source": [
    "### 1. Understanding Client & their Problems"
   ]
  },
  {
   "cell_type": "markdown",
   "metadata": {},
   "source": [
    "#### 1.1. Current Situation\n",
    "\n",
    "In the current market for home buyers and sellers there is no tool available to estimate the price of a house. Home buyers & sellers end up with long negotiations before finalizing the prices. The reason for it is there is no benchmark for house price. Buyers tries to reduce the price unreasonably without understanding current market price. Sellers quote exorbitant prices without considering the true value of the property. The prices of houses are decided by word of mouth and there is no scientific approach to decide on the price by considering all the factors like location, size, age etc."
   ]
  },
  {
   "cell_type": "markdown",
   "metadata": {},
   "source": [
    "#### 1.2. Opportunity for improvement"
   ]
  },
  {
   "cell_type": "markdown",
   "metadata": {},
   "source": [
    "To overcome the above problem, there should be benchmark for the house prices by considering all external factors which decide on price of the house. We need to have tool like KBB (Kelley Blue Book) in US to get a best price for cars. A similar tool needs to be implemented for House Pricing. It would help both buyer and seller to come quickly to a deal closing price."
   ]
  },
  {
   "cell_type": "markdown",
   "metadata": {},
   "source": [
    "#### 1.3. Data Requirement"
   ]
  },
  {
   "cell_type": "markdown",
   "metadata": {},
   "source": [
    "To build such tool, we would require past house transaction data with all details like area of house, type of house, rooms, location, age, price and many more attributes of the house. The attributes of house will help in deciding the right price for the house."
   ]
  },
  {
   "cell_type": "markdown",
   "metadata": {},
   "source": [
    "#### 1.4. Source of data and challenges"
   ]
  },
  {
   "cell_type": "markdown",
   "metadata": {},
   "source": [
    "The data needs to be collected from various sources. The house transactions details can be obtained from District Registar office. It will contain the most of the house details + price. We would also need details about the locality, like schools, offices, railway stations, bus stations. These details can be obtained from Muncipal corporations. Getting all the details from various sources would be a big challenge, as the data might not be in required electronic format. Good amount of ground work need to be done to collate the data from different source systems and consolidate it for further processing."
   ]
  },
  {
   "cell_type": "markdown",
   "metadata": {},
   "source": [
    "#### 1.5. Size of the data"
   ]
  },
  {
   "cell_type": "markdown",
   "metadata": {},
   "source": [
    "We would require atleast 5 years of data from multiple locations. The data should have pricing for various sizes of houses, types of house and location of houses. The effectiveness of the tool will depend of the quality and quantity of the past data. "
   ]
  },
  {
   "cell_type": "markdown",
   "metadata": {},
   "source": [
    "### 2. Understand the Data"
   ]
  },
  {
   "cell_type": "markdown",
   "metadata": {},
   "source": [
    "#### 2.1. Import necessary Libraries"
   ]
  },
  {
   "cell_type": "code",
   "execution_count": 213,
   "metadata": {},
   "outputs": [],
   "source": [
    "#!pip install geopandas\n",
    "#!pip install geopy\n",
    "#!pip install folium"
   ]
  },
  {
   "cell_type": "code",
   "execution_count": 214,
   "metadata": {
    "collapsed": true
   },
   "outputs": [],
   "source": [
    "#Load Libraries\n",
    "import pandas as pd\n",
    "import numpy as np\n",
    "import matplotlib as mpl\n",
    "import matplotlib.pyplot as plt\n",
    "from sklearn.model_selection import train_test_split\n",
    "#from sklearn.cross_validation import train_test_split\n",
    "\n",
    "#import statsmodels.api as sm\n",
    "from sklearn import metrics\n",
    "from sklearn import datasets\n",
    "import seaborn as sn\n",
    "\n",
    "from sklearn import svm\n",
    "from scipy.stats import zscore\n",
    "\n",
    "from scipy import stats\n",
    "from sklearn.preprocessing import StandardScaler\n",
    "from sklearn.svm import SVC\n",
    "\n",
    "from scipy.stats import spearmanr, pearsonr\n",
    "import warnings\n",
    "warnings.filterwarnings('ignore')\n",
    "from sklearn.model_selection import cross_val_score\n",
    "from sklearn.preprocessing import Imputer\n",
    "from sklearn.model_selection import GridSearchCV\n",
    "from sklearn.linear_model import LinearRegression\n",
    "%matplotlib inline\n",
    "sn.set(color_codes = True)\n",
    "import statsmodels.api as sm\n",
    "from sklearn.model_selection import KFold\n",
    "from sklearn.ensemble import (RandomForestRegressor, GradientBoostingRegressor,AdaBoostRegressor,BaggingRegressor)\n",
    "from sklearn.model_selection import RandomizedSearchCV"
   ]
  },
  {
   "cell_type": "markdown",
   "metadata": {},
   "source": [
    "#### 2.2. Load the Data"
   ]
  },
  {
   "cell_type": "code",
   "execution_count": 215,
   "metadata": {},
   "outputs": [
    {
     "data": {
      "text/html": [
       "<div>\n",
       "<style scoped>\n",
       "    .dataframe tbody tr th:only-of-type {\n",
       "        vertical-align: middle;\n",
       "    }\n",
       "\n",
       "    .dataframe tbody tr th {\n",
       "        vertical-align: top;\n",
       "    }\n",
       "\n",
       "    .dataframe thead th {\n",
       "        text-align: right;\n",
       "    }\n",
       "</style>\n",
       "<table border=\"1\" class=\"dataframe\">\n",
       "  <thead>\n",
       "    <tr style=\"text-align: right;\">\n",
       "      <th></th>\n",
       "      <th>cid</th>\n",
       "      <th>dayhours</th>\n",
       "      <th>price</th>\n",
       "      <th>room_bed</th>\n",
       "      <th>room_bath</th>\n",
       "      <th>living_measure</th>\n",
       "      <th>lot_measure</th>\n",
       "      <th>ceil</th>\n",
       "      <th>coast</th>\n",
       "      <th>sight</th>\n",
       "      <th>...</th>\n",
       "      <th>basement</th>\n",
       "      <th>yr_built</th>\n",
       "      <th>yr_renovated</th>\n",
       "      <th>zipcode</th>\n",
       "      <th>lat</th>\n",
       "      <th>long</th>\n",
       "      <th>living_measure15</th>\n",
       "      <th>lot_measure15</th>\n",
       "      <th>furnished</th>\n",
       "      <th>total_area</th>\n",
       "    </tr>\n",
       "  </thead>\n",
       "  <tbody>\n",
       "    <tr>\n",
       "      <th>0</th>\n",
       "      <td>3034200666</td>\n",
       "      <td>20141107T000000</td>\n",
       "      <td>808100</td>\n",
       "      <td>4</td>\n",
       "      <td>3.25</td>\n",
       "      <td>3020</td>\n",
       "      <td>13457</td>\n",
       "      <td>1.0</td>\n",
       "      <td>0</td>\n",
       "      <td>0</td>\n",
       "      <td>...</td>\n",
       "      <td>0</td>\n",
       "      <td>1956</td>\n",
       "      <td>0</td>\n",
       "      <td>98133</td>\n",
       "      <td>47.7174</td>\n",
       "      <td>-122.336</td>\n",
       "      <td>2120</td>\n",
       "      <td>7553</td>\n",
       "      <td>1</td>\n",
       "      <td>16477</td>\n",
       "    </tr>\n",
       "    <tr>\n",
       "      <th>1</th>\n",
       "      <td>8731981640</td>\n",
       "      <td>20141204T000000</td>\n",
       "      <td>277500</td>\n",
       "      <td>4</td>\n",
       "      <td>2.50</td>\n",
       "      <td>2550</td>\n",
       "      <td>7500</td>\n",
       "      <td>1.0</td>\n",
       "      <td>0</td>\n",
       "      <td>0</td>\n",
       "      <td>...</td>\n",
       "      <td>800</td>\n",
       "      <td>1976</td>\n",
       "      <td>0</td>\n",
       "      <td>98023</td>\n",
       "      <td>47.3165</td>\n",
       "      <td>-122.386</td>\n",
       "      <td>2260</td>\n",
       "      <td>8800</td>\n",
       "      <td>0</td>\n",
       "      <td>10050</td>\n",
       "    </tr>\n",
       "    <tr>\n",
       "      <th>2</th>\n",
       "      <td>5104530220</td>\n",
       "      <td>20150420T000000</td>\n",
       "      <td>404000</td>\n",
       "      <td>3</td>\n",
       "      <td>2.50</td>\n",
       "      <td>2370</td>\n",
       "      <td>4324</td>\n",
       "      <td>2.0</td>\n",
       "      <td>0</td>\n",
       "      <td>0</td>\n",
       "      <td>...</td>\n",
       "      <td>0</td>\n",
       "      <td>2006</td>\n",
       "      <td>0</td>\n",
       "      <td>98038</td>\n",
       "      <td>47.3515</td>\n",
       "      <td>-121.999</td>\n",
       "      <td>2370</td>\n",
       "      <td>4348</td>\n",
       "      <td>0</td>\n",
       "      <td>6694</td>\n",
       "    </tr>\n",
       "    <tr>\n",
       "      <th>3</th>\n",
       "      <td>6145600285</td>\n",
       "      <td>20140529T000000</td>\n",
       "      <td>300000</td>\n",
       "      <td>2</td>\n",
       "      <td>1.00</td>\n",
       "      <td>820</td>\n",
       "      <td>3844</td>\n",
       "      <td>1.0</td>\n",
       "      <td>0</td>\n",
       "      <td>0</td>\n",
       "      <td>...</td>\n",
       "      <td>0</td>\n",
       "      <td>1916</td>\n",
       "      <td>0</td>\n",
       "      <td>98133</td>\n",
       "      <td>47.7049</td>\n",
       "      <td>-122.349</td>\n",
       "      <td>1520</td>\n",
       "      <td>3844</td>\n",
       "      <td>0</td>\n",
       "      <td>4664</td>\n",
       "    </tr>\n",
       "    <tr>\n",
       "      <th>4</th>\n",
       "      <td>8924100111</td>\n",
       "      <td>20150424T000000</td>\n",
       "      <td>699000</td>\n",
       "      <td>2</td>\n",
       "      <td>1.50</td>\n",
       "      <td>1400</td>\n",
       "      <td>4050</td>\n",
       "      <td>1.0</td>\n",
       "      <td>0</td>\n",
       "      <td>0</td>\n",
       "      <td>...</td>\n",
       "      <td>0</td>\n",
       "      <td>1954</td>\n",
       "      <td>0</td>\n",
       "      <td>98115</td>\n",
       "      <td>47.6768</td>\n",
       "      <td>-122.269</td>\n",
       "      <td>1900</td>\n",
       "      <td>5940</td>\n",
       "      <td>0</td>\n",
       "      <td>5450</td>\n",
       "    </tr>\n",
       "  </tbody>\n",
       "</table>\n",
       "<p>5 rows × 23 columns</p>\n",
       "</div>"
      ],
      "text/plain": [
       "          cid         dayhours   price  room_bed  room_bath  living_measure  \\\n",
       "0  3034200666  20141107T000000  808100         4       3.25            3020   \n",
       "1  8731981640  20141204T000000  277500         4       2.50            2550   \n",
       "2  5104530220  20150420T000000  404000         3       2.50            2370   \n",
       "3  6145600285  20140529T000000  300000         2       1.00             820   \n",
       "4  8924100111  20150424T000000  699000         2       1.50            1400   \n",
       "\n",
       "   lot_measure  ceil  coast  sight  ...  basement  yr_built  yr_renovated  \\\n",
       "0        13457   1.0      0      0  ...         0      1956             0   \n",
       "1         7500   1.0      0      0  ...       800      1976             0   \n",
       "2         4324   2.0      0      0  ...         0      2006             0   \n",
       "3         3844   1.0      0      0  ...         0      1916             0   \n",
       "4         4050   1.0      0      0  ...         0      1954             0   \n",
       "\n",
       "   zipcode      lat     long  living_measure15  lot_measure15  furnished  \\\n",
       "0    98133  47.7174 -122.336              2120           7553          1   \n",
       "1    98023  47.3165 -122.386              2260           8800          0   \n",
       "2    98038  47.3515 -121.999              2370           4348          0   \n",
       "3    98133  47.7049 -122.349              1520           3844          0   \n",
       "4    98115  47.6768 -122.269              1900           5940          0   \n",
       "\n",
       "   total_area  \n",
       "0       16477  \n",
       "1       10050  \n",
       "2        6694  \n",
       "3        4664  \n",
       "4        5450  \n",
       "\n",
       "[5 rows x 23 columns]"
      ]
     },
     "execution_count": 215,
     "metadata": {},
     "output_type": "execute_result"
    }
   ],
   "source": [
    "dataSet = pd.read_csv('innercity.csv')\n",
    "dataSet.head()"
   ]
  },
  {
   "cell_type": "code",
   "execution_count": 216,
   "metadata": {},
   "outputs": [
    {
     "data": {
      "text/plain": [
       "(21613, 23)"
      ]
     },
     "execution_count": 216,
     "metadata": {},
     "output_type": "execute_result"
    }
   ],
   "source": [
    "dataSet.shape"
   ]
  },
  {
   "cell_type": "code",
   "execution_count": 217,
   "metadata": {},
   "outputs": [
    {
     "name": "stdout",
     "output_type": "stream",
     "text": [
      "<class 'pandas.core.frame.DataFrame'>\n",
      "RangeIndex: 21613 entries, 0 to 21612\n",
      "Data columns (total 23 columns):\n",
      "cid                 21613 non-null int64\n",
      "dayhours            21613 non-null object\n",
      "price               21613 non-null int64\n",
      "room_bed            21613 non-null int64\n",
      "room_bath           21613 non-null float64\n",
      "living_measure      21613 non-null int64\n",
      "lot_measure         21613 non-null int64\n",
      "ceil                21613 non-null float64\n",
      "coast               21613 non-null int64\n",
      "sight               21613 non-null int64\n",
      "condition           21613 non-null int64\n",
      "quality             21613 non-null int64\n",
      "ceil_measure        21613 non-null int64\n",
      "basement            21613 non-null int64\n",
      "yr_built            21613 non-null int64\n",
      "yr_renovated        21613 non-null int64\n",
      "zipcode             21613 non-null int64\n",
      "lat                 21613 non-null float64\n",
      "long                21613 non-null float64\n",
      "living_measure15    21613 non-null int64\n",
      "lot_measure15       21613 non-null int64\n",
      "furnished           21613 non-null int64\n",
      "total_area          21613 non-null int64\n",
      "dtypes: float64(4), int64(18), object(1)\n",
      "memory usage: 3.8+ MB\n"
     ]
    }
   ],
   "source": [
    "dataSet.info()"
   ]
  },
  {
   "cell_type": "markdown",
   "metadata": {},
   "source": [
    "<b>Findings:</b>\n",
    "    * There are 21613 rows and 23 columns\n",
    "    * All are numeric data except for dayhours\n",
    "    * Looks like there are no null values. We need to explore further to confirm it."
   ]
  },
  {
   "cell_type": "code",
   "execution_count": 218,
   "metadata": {},
   "outputs": [
    {
     "name": "stdout",
     "output_type": "stream",
     "text": [
      "Bed Rooms : \n",
      "4 3 2 5 6 1 8 33 7 0 9 10 11\n",
      "Bath Rooms : \n",
      "3.25 2.5 1.0 1.5 1.75 2.0 2.75 2.25 3.0 4.0 4.5 3.5 5.25 4.75 4.25 5.0 7.75 3.75 0.75 5.5 6.75 1.25 6.25 0.0 5.75 6.0 0.5 6.5 7.5 8.0\n",
      "Ceil : \n",
      "1.0 2.0 3.0 1.5 2.5 3.5\n",
      "Coast : \n",
      "0 1\n",
      "Sight : \n",
      "0 2 4 3 1\n",
      "Condition : \n",
      "5 3 4 2 1\n",
      "Quality : \n",
      "9 8 6 7 10 11 5 13 12 4 3 1\n",
      "Built Year : \n",
      "1900 1901 1902 1903 1904 1905 1906 1907 1908 1909 1910 1911 1912 1913 1914 1915 1916 1917 1918 1919 1920 1921 1922 1923 1924 1925 1926 1927 1928 1929 1930 1931 1932 1933 1934 1935 1936 1937 1938 1939 1940 1941 1942 1943 1944 1945 1946 1947 1948 1949 1950 1951 1952 1953 1954 1955 1956 1957 1958 1959 1960 1961 1962 1963 1964 1965 1966 1967 1968 1969 1970 1971 1972 1973 1974 1975 1976 1977 1978 1979 1980 1981 1982 1983 1984 1985 1986 1987 1988 1989 1990 1991 1992 1993 1994 1995 1996 1997 1998 1999 2000 2001 2002 2003 2004 2005 2006 2007 2008 2009 2010 2011 2012 2013 2014 2015\n",
      "Renovated Year : \n",
      "0 1934 1940 1944 1945 1946 1948 1950 1951 1953 1954 1955 1956 1957 1958 1959 1960 1962 1963 1964 1965 1967 1968 1969 1970 1971 1972 1973 1974 1975 1976 1977 1978 1979 1980 1981 1982 1983 1984 1985 1986 1987 1988 1989 1990 1991 1992 1993 1994 1995 1996 1997 1998 1999 2000 2001 2002 2003 2004 2005 2006 2007 2008 2009 2010 2011 2012 2013 2014 2015\n",
      "Furnished : \n",
      "1 0\n"
     ]
    }
   ],
   "source": [
    "print (\"Bed Rooms : \")\n",
    "print (*list(dataSet.room_bed.unique()))\n",
    "\n",
    "print (\"Bath Rooms : \")\n",
    "print (*list(dataSet.room_bath.unique()))\n",
    "\n",
    "print (\"Ceil : \")\n",
    "print (*list(dataSet.ceil.unique()))\n",
    "\n",
    "print (\"Coast : \")\n",
    "print (*list(dataSet.coast.unique()))\n",
    "\n",
    "print (\"Sight : \")\n",
    "print (*list(dataSet.sight.unique()))\n",
    "\n",
    "print (\"Condition : \")\n",
    "print (*list(dataSet.condition.unique()))\n",
    "\n",
    "print (\"Quality : \")\n",
    "print (*list(dataSet.quality.unique()))\n",
    "\n",
    "print (\"Built Year : \")\n",
    "years = dataSet.yr_built.copy()\n",
    "years = years.sort_values()\n",
    "print (*list(years.unique()))\n",
    "\n",
    "print (\"Renovated Year : \")\n",
    "years = dataSet.yr_renovated.copy()\n",
    "years = years.sort_values()\n",
    "print (*list(years.unique()))\n",
    "\n",
    "print (\"Furnished : \")\n",
    "print (*list(dataSet.furnished.unique()))"
   ]
  },
  {
   "cell_type": "markdown",
   "metadata": {},
   "source": [
    "#### 2.3. Understand each attribute at high level"
   ]
  },
  {
   "cell_type": "markdown",
   "metadata": {},
   "source": [
    "<Table border=1, align=left>\n",
    "<TR align=left>\n",
    "    <TH>#</TH>\n",
    "    <TH>Col Name</TH>\n",
    "    <TH>Description</TH>\n",
    "    <TH>Type</TH>\n",
    "    <TH>Data Type</TH>\n",
    "    <TH>Categorical Attributes</TH>\n",
    "    <TH>Remarks</TH>\n",
    "</TR>\n",
    "\n",
    "    <TR style=\"color:red;\">\n",
    "        <TD>\n",
    "            1.\n",
    "        </TD>\n",
    "        <TD>\n",
    "            cid\n",
    "        </TD>\n",
    "        <TD>\n",
    "            A notation for a house\n",
    "        </TD>\n",
    "        <TD>Indepenent Variable</TD>\n",
    "         <TD>\n",
    "            Numeric\n",
    "        </TD>\n",
    "         <TD>\n",
    "            No\n",
    "        </TD>\n",
    "         <TD>\n",
    "            This attribute does not have any significance.\n",
    "        </TD>\n",
    "    </TR>\n",
    "    \n",
    "    <TR style=\"color:red;\">\n",
    "        <TD>\n",
    "            2.\n",
    "        </TD>\n",
    "        <TD>\n",
    "            dayhours\n",
    "        </TD>\n",
    "        <TD>\n",
    "            Date on which House was sold\n",
    "        </TD>\n",
    "        <TD>Indepenent Variable</TD>\n",
    "         <TD>\n",
    "            String\n",
    "        </TD>\n",
    "         <TD>\n",
    "            No\n",
    "        </TD>\n",
    "         <TD>\n",
    "            The format of the data is YYYYMMDDT000000. The date need to be extracted from it.\n",
    "        </TD>\n",
    "    </TR>\n",
    "\n",
    "    \n",
    "    \n",
    "    <TR >\n",
    "        <TD>\n",
    "            3.\n",
    "        </TD>\n",
    "        <TD>\n",
    "            room_bed\n",
    "        </TD>\n",
    "        <TD>\n",
    "            Number of Bedrooms\n",
    "        </TD>\n",
    "        <TD>Indepenent Variable</TD>\n",
    "         <TD>\n",
    "            Numeric\n",
    "        </TD>\n",
    "         <TD>\n",
    "            Yes\n",
    "        </TD>\n",
    "         <TD>\n",
    "            &nbsp;\n",
    "        </TD>\n",
    "    </TR>\n",
    "    \n",
    "    <TR >\n",
    "        <TD>\n",
    "            4.\n",
    "        </TD>\n",
    "        <TD>\n",
    "            room_bath\n",
    "        </TD>\n",
    "        <TD>\n",
    "            Number of bathrooms\n",
    "        </TD>\n",
    "        <TD>Indepenent Variable</TD>\n",
    "         <TD>\n",
    "            Numeric\n",
    "        </TD>\n",
    "         <TD>\n",
    "            Yes\n",
    "        </TD>\n",
    "         <TD>\n",
    "            &nbsp;\n",
    "        </TD>\n",
    "    </TR>\n",
    "    \n",
    "    <TR style=\"color:red;\">\n",
    "        <TD>\n",
    "            5.\n",
    "        </TD>\n",
    "        <TD>\n",
    "            living_measure\n",
    "        </TD>\n",
    "        <TD>\n",
    "            square footage of the home\n",
    "        </TD>\n",
    "        <TD>Indepenent Variable</TD>\n",
    "         <TD>\n",
    "            Numeric\n",
    "        </TD>\n",
    "         <TD>\n",
    "            No\n",
    "        </TD>\n",
    "         <TD>\n",
    "            It is Ceil_Measure + Basement Measure. So there is no need to keep this column.\n",
    "            \n",
    "        </TD>\n",
    "    </TR>\n",
    "    \n",
    "    <TR >\n",
    "        <TD>\n",
    "            6.\n",
    "        </TD>\n",
    "        <TD>\n",
    "            lot_measure\n",
    "        </TD>\n",
    "        <TD>\n",
    "            Lot size, refers to the size of the land that your property is on\n",
    "        </TD>\n",
    "        <TD>Indepenent Variable</TD>\n",
    "         <TD>\n",
    "            Numeric\n",
    "        </TD>\n",
    "         <TD>\n",
    "            No\n",
    "        </TD>\n",
    "         <TD>\n",
    "            There is lot_measure15 column which gives the lot area measurement as on 2015. We need decide to retain lot_measure15 column or this column. We will decide it after further analysis.\n",
    "        </TD>\n",
    "    </TR>\n",
    "    \n",
    "    <TR >\n",
    "        <TD>\n",
    "            7.\n",
    "        </TD>\n",
    "        <TD>\n",
    "            ceil\n",
    "        </TD>\n",
    "        <TD>\n",
    "            Number of floors\n",
    "        </TD>\n",
    "        <TD>Indepenent Variable</TD>\n",
    "         <TD>\n",
    "            Numeric\n",
    "        </TD>\n",
    "         <TD>\n",
    "            No\n",
    "        </TD>\n",
    "         <TD>\n",
    "            It holds values 1.0 2.0 3.0 1.5 2.5 3.5\n",
    "        </TD>\n",
    "    </TR>\n",
    "    \n",
    "    <TR >\n",
    "        <TD>\n",
    "            8.\n",
    "        </TD>\n",
    "        <TD>\n",
    "            coast\n",
    "        </TD>\n",
    "        <TD>\n",
    "            House which has a view to a waterfront\n",
    "        </TD>\n",
    "        <TD>Indepenent Variable</TD>\n",
    "         <TD>\n",
    "            Numeric\n",
    "        </TD>\n",
    "         <TD>\n",
    "            Yes\n",
    "        </TD>\n",
    "         <TD>\n",
    "            0 - It has no waterfront view\n",
    "            1 - It has waterfront view\n",
    "        </TD>\n",
    "    </TR>\n",
    "    \n",
    "    <TR style=\"color:red;\">\n",
    "        <TD>\n",
    "            9.\n",
    "        </TD>\n",
    "        <TD>\n",
    "            Sight\n",
    "        </TD>\n",
    "        <TD>\n",
    "            Has been viewed\n",
    "        </TD>\n",
    "        <TD>Indepenent Variable</TD>\n",
    "         <TD>\n",
    "            Numeric\n",
    "        </TD>\n",
    "         <TD>\n",
    "            Yes\n",
    "        </TD>\n",
    "         <TD>\n",
    "            Holds values 0, 1, 2, 3, 4. The price of the house will not have any significance on number of visits. hence it can be droppped.\n",
    "        </TD>\n",
    "    </TR>\n",
    "    \n",
    "    <TR >\n",
    "        <TD>\n",
    "            10.\n",
    "        </TD>\n",
    "        <TD>\n",
    "            condition\n",
    "        </TD>\n",
    "        <TD>\n",
    "            How good the condition is (Overall)\n",
    "        </TD>\n",
    "        <TD>Indepenent Variable</TD>\n",
    "         <TD>\n",
    "            Numeric\n",
    "        </TD>\n",
    "         <TD>\n",
    "            Yes\n",
    "        </TD>\n",
    "         <TD>\n",
    "            Holds values 1, 2, 3, 4, 5. Rating for condition -  1 being bad condition and 5 being Excellent condition.\n",
    "        </TD>\n",
    "    </TR>\n",
    "    \n",
    "    <TR >\n",
    "        <TD>\n",
    "            11.\n",
    "        </TD>\n",
    "        <TD>\n",
    "            quality\n",
    "        </TD>\n",
    "        <TD>\n",
    "            Grade given to the housing unit, based on grading system\n",
    "        </TD>\n",
    "        <TD>Indepenent Variable</TD>\n",
    "         <TD>\n",
    "            Numeric\n",
    "        </TD>\n",
    "         <TD>\n",
    "            Yes\n",
    "        </TD>\n",
    "         <TD>\n",
    "            Quality scale - 1 to 13.\n",
    "        </TD>\n",
    "    </TR>\n",
    "    \n",
    "    <TR>\n",
    "        <TD>\n",
    "            12.\n",
    "        </TD>\n",
    "        <TD>\n",
    "            ceil_measure\n",
    "        </TD>\n",
    "        <TD>\n",
    "            square footage of house apart from basement\n",
    "        </TD>\n",
    "        <TD>Indepenent Variable</TD>\n",
    "         <TD>\n",
    "            Numeric\n",
    "        </TD>\n",
    "         <TD>\n",
    "            No\n",
    "        </TD>\n",
    "         <TD>\n",
    "            The house area is covered in living_measure15, however we need to decide to retain this column or living_measure15 after futher analysis.\n",
    "        </TD>\n",
    "    </TR>\n",
    "    \n",
    "    <TR>\n",
    "        <TD>\n",
    "            13.\n",
    "        </TD>\n",
    "        <TD>\n",
    "            basement\n",
    "        </TD>\n",
    "        <TD>\n",
    "            square footage of the basement\n",
    "        </TD>\n",
    "        <TD>Indepenent Variable</TD>\n",
    "         <TD>\n",
    "            Numeric\n",
    "        </TD>\n",
    "         <TD>\n",
    "            No\n",
    "        </TD>\n",
    "         <TD>\n",
    "            The property will have better value if there is basement. We can convert it into a categorical column too.\n",
    "        </TD>\n",
    "    </TR>\n",
    "    \n",
    "    <TR >\n",
    "        <TD>\n",
    "            14.\n",
    "        </TD>\n",
    "        <TD>\n",
    "            yr_built\n",
    "        </TD>\n",
    "        <TD>\n",
    "            Built Year\n",
    "        </TD>\n",
    "        <TD>Indepenent Variable</TD>\n",
    "         <TD>\n",
    "            Numeric\n",
    "        </TD>\n",
    "         <TD>\n",
    "            No\n",
    "        </TD>\n",
    "         <TD>\n",
    "            Data is available from 1900 to 2015\n",
    "        </TD>\n",
    "    </TR>\n",
    "    \n",
    "    <TR style=\"color:red;\">\n",
    "        <TD>\n",
    "            15.\n",
    "        </TD>\n",
    "        <TD>\n",
    "            yr_renovated\n",
    "        </TD>\n",
    "        <TD>\n",
    "            Year when house was renovated\n",
    "        </TD>\n",
    "        <TD>Indepenent Variable</TD>\n",
    "         <TD>\n",
    "            Numeric\n",
    "        </TD>\n",
    "         <TD>\n",
    "            No\n",
    "        </TD>\n",
    "         <TD>\n",
    "            0 - Means the house was not renovated\n",
    "            Year - The year when it was renovated.\n",
    "        </TD>\n",
    "    </TR>\n",
    "    \n",
    "    <TR >\n",
    "        <TD>\n",
    "            16.\n",
    "        </TD>\n",
    "        <TD>\n",
    "            zipcode\n",
    "        </TD>\n",
    "        <TD>\n",
    "            Zip Code of the area\n",
    "        </TD>\n",
    "        <TD>Indepenent Variable</TD>\n",
    "         <TD>\n",
    "            Numeric\n",
    "        </TD>\n",
    "         <TD>\n",
    "            No\n",
    "        </TD>\n",
    "         <TD>\n",
    "            &nbsp;\n",
    "        </TD>\n",
    "    </TR>\n",
    "    \n",
    "    <TR >\n",
    "        <TD>\n",
    "            17.\n",
    "        </TD>\n",
    "        <TD>\n",
    "            lat\n",
    "        </TD>\n",
    "        <TD>\n",
    "            Latitude coordinate\n",
    "        </TD>\n",
    "        <TD>Indepenent Variable</TD>\n",
    "         <TD>\n",
    "            Numeric\n",
    "        </TD>\n",
    "         <TD>\n",
    "            No\n",
    "        </TD>\n",
    "         <TD>\n",
    "            There is Zip Code Available. Do we need to keep this column? We will decide it later during bi variant analysis\n",
    "        </TD>\n",
    "    </TR>\n",
    "    \n",
    "    <TR >\n",
    "        <TD>\n",
    "            18.\n",
    "        </TD>\n",
    "        <TD>\n",
    "            long\n",
    "        </TD>\n",
    "        <TD>\n",
    "            Longitude coordinate\n",
    "        </TD>\n",
    "        <TD>Indepenent Variable</TD>\n",
    "         <TD>\n",
    "            Numeric\n",
    "        </TD>\n",
    "         <TD>\n",
    "            No\n",
    "        </TD>\n",
    "         <TD>\n",
    "            There is Zip Code Available. Do we need to keep this column? We will decide it later during bi variant analysis\n",
    "        </TD>\n",
    "    </TR>\n",
    "    \n",
    "    <TR style=\"color:red;\">\n",
    "        <TD>\n",
    "            19.\n",
    "        </TD>\n",
    "        <TD>\n",
    "            living_measure15\n",
    "        </TD>\n",
    "        <TD>\n",
    "             Living room area in 2015(implies-- some renovations) This might or might not have affected the lotsize area.\n",
    "        </TD>\n",
    "        <TD>Indepenent Variable</TD>\n",
    "         <TD>\n",
    "            Numeric\n",
    "        </TD>\n",
    "         <TD>\n",
    "            No\n",
    "        </TD>\n",
    "         <TD>\n",
    "            It has the latest area as on 2015. But there are houses sold in 2014 that means this column was not considered for pricing of house.\n",
    "        </TD>\n",
    "    </TR>\n",
    "    \n",
    "    <TR style=\"color:red;\">\n",
    "        <TD>\n",
    "            20.\n",
    "        </TD>\n",
    "        <TD>\n",
    "            lot_measure15\n",
    "        </TD>\n",
    "        <TD>\n",
    "            lotSize area in 2015(implies-- some renovations)\n",
    "        </TD>\n",
    "        <TD>Indepenent Variable</TD>\n",
    "         <TD>\n",
    "            Numeric\n",
    "        </TD>\n",
    "         <TD>\n",
    "            No\n",
    "        </TD>\n",
    "         <TD>\n",
    "            It has the latest area as on 2015. But there are houses sold in 2014 that means this column was not considered for pricing of house.\n",
    "        </TD>\n",
    "    </TR>\n",
    "    \n",
    "    <TR >\n",
    "        <TD>\n",
    "           21.\n",
    "        </TD>\n",
    "        <TD>\n",
    "            furnished\n",
    "        </TD>\n",
    "        <TD>\n",
    "            House furnished or not\n",
    "        </TD>\n",
    "        <TD>Indepenent Variable</TD>\n",
    "         <TD>\n",
    "            Numeric\n",
    "        </TD>\n",
    "         <TD>\n",
    "            Yes\n",
    "        </TD>\n",
    "         <TD>\n",
    "            0- Not Furnished\n",
    "            1- Furnished\n",
    "        </TD>\n",
    "    </TR>\n",
    "    \n",
    "    <TR style=\"color:red;\">\n",
    "        <TD>\n",
    "            22.\n",
    "        </TD>\n",
    "        <TD>\n",
    "             total_area\n",
    "        </TD>\n",
    "        <TD>\n",
    "            Measure of both living and lot\n",
    "        </TD>\n",
    "        <TD>Indepenent Variable</TD>\n",
    "         <TD>\n",
    "            Numeric\n",
    "        </TD>\n",
    "         <TD>\n",
    "            No\n",
    "        </TD>\n",
    "         <TD>\n",
    "            It is sum of lot_measure + living Measure. So there is no significance of keeping it.\n",
    "        </TD>\n",
    "    </TR>\n",
    "    \n",
    "    <TR style=\"font-weight:bold\">\n",
    "        <TD>\n",
    "            23.\n",
    "        </TD>\n",
    "        <TD>\n",
    "            price\n",
    "        </TD>\n",
    "        <TD>\n",
    "            Price of the House\n",
    "        </TD>\n",
    "        <TD>Target Variable</TD>\n",
    "         <TD>\n",
    "            Numeric\n",
    "        </TD>\n",
    "         <TD>\n",
    "            No\n",
    "        </TD>\n",
    "         <TD>\n",
    "            &nbsp;\n",
    "        </TD>\n",
    "    </TR>\n",
    "    \n",
    "</Table>"
   ]
  },
  {
   "cell_type": "markdown",
   "metadata": {},
   "source": [
    "#### 2.3. Fix columns in the Dataset\n",
    "\n",
    "\n",
    "1. <b>cid</b> - This is just a identifier, need to drop the column\n",
    "2. <b>dayhours</b> - This column by itself does not have any significance. Need to extract the year sold value and subtract it from yr_built column to get age of the house when sold.\n",
    "3. <b>living_measure</b> - Drop this column. Reason is mentioned in above table\n",
    "4. <b>total_area</b> - Drop this column. Reason is mentioned in above table\n",
    "5. <b>sight</b> - Drop this column. Reason is mentioned in above table\n",
    "6. <b>lot_measure15</b> - Drop this column. Reason is mentioned in above table\n",
    "7. <b>living_measure15</b> - Drop this column. Reason is mentioned in above table\n",
    "8. <b>yr_renovated</b> - Any house renovated 5 years prior to selling would get a better price. We will create new columns to find post renovation in how many years the house was sold."
   ]
  },
  {
   "cell_type": "code",
   "execution_count": 219,
   "metadata": {},
   "outputs": [],
   "source": [
    "# Drop cid column\n",
    "dataSet.drop('cid', axis=1, inplace=True)\n"
   ]
  },
  {
   "cell_type": "code",
   "execution_count": 220,
   "metadata": {
    "collapsed": true
   },
   "outputs": [],
   "source": [
    "# Find Age of the house at the time of sale.\n",
    "dataSet[\"yr_sold\"] = dataSet[\"dayhours\"].apply(lambda x:x[:4]).astype(int)\n",
    "dataSet[\"age_sold\"] = dataSet.yr_sold - dataSet.yr_built\n"
   ]
  },
  {
   "cell_type": "code",
   "execution_count": 221,
   "metadata": {
    "collapsed": true
   },
   "outputs": [],
   "source": [
    "# Find basement exists or not; Drop basement column\n",
    "dataSet['Have_basement'] = dataSet['basement'].apply(lambda x: 1 if x>0 else 0)\n"
   ]
  },
  {
   "cell_type": "code",
   "execution_count": 222,
   "metadata": {
    "collapsed": true
   },
   "outputs": [],
   "source": [
    "# Drop columns living_measure, living_measure15 ,lot_measure15, total_area,  Sight, dayhours\n",
    "dataSet.drop(['living_measure','living_measure15','lot_measure15','total_area', 'sight', 'dayhours'], axis=1, inplace=True)"
   ]
  },
  {
   "cell_type": "code",
   "execution_count": 223,
   "metadata": {
    "collapsed": true
   },
   "outputs": [],
   "source": [
    "# Handle Renovation column. 4 New columns added to bucket the years of renovation\n",
    "dataSet['years_renovated'] = dataSet['yr_sold'] - dataSet['yr_renovated']\n",
    "dataSet['renovation_in_15to20_Years'] = dataSet['years_renovated'].apply(lambda x: 1 if (x>15 and x<=20) else 0)\n",
    "dataSet['renovation_in_10to15_Years'] = dataSet['years_renovated'].apply(lambda x: 1 if (x>10 and x<=15) else 0)\n",
    "dataSet['renovation_in_5to10_Years'] = dataSet['years_renovated'].apply(lambda x: 1 if (x>5 and x<=10) else 0)\n",
    "dataSet['renovation_in_0to5_Years'] = dataSet['years_renovated'].apply(lambda x: 1 if (x>=0 and x<=5) else 0)\n",
    "dataSet.drop(['years_renovated', 'yr_renovated'] , axis=1, inplace=True)\n"
   ]
  },
  {
   "cell_type": "markdown",
   "metadata": {},
   "source": [
    "#### 2.4. Fix column type and data type"
   ]
  },
  {
   "cell_type": "code",
   "execution_count": 225,
   "metadata": {},
   "outputs": [],
   "source": [
    "# Set Categorical columns\n",
    "dataSet.coast = pd.Categorical(dataSet.coast)\n",
    "dataSet.condition = pd.Categorical(dataSet.condition)\n",
    "dataSet.quality = pd.Categorical(dataSet.quality)\n",
    "dataSet.furnished = pd.Categorical(dataSet.furnished)\n",
    "dataSet.Have_basement = pd.Categorical(dataSet.Have_basement)\n",
    "dataSet.zipcode = pd.Categorical(dataSet.zipcode)\n",
    "dataSet.yr_built = pd.Categorical(dataSet.yr_built)\n",
    "dataSet.yr_sold = pd.Categorical(dataSet.yr_sold)\n",
    "dataSet.renovation_in_15to20_Years = pd.Categorical(dataSet.renovation_in_15to20_Years)\n",
    "dataSet.renovation_in_10to15_Years = pd.Categorical(dataSet.renovation_in_10to15_Years)\n",
    "dataSet.renovation_in_5to10_Years = pd.Categorical(dataSet.renovation_in_5to10_Years)\n",
    "dataSet.renovation_in_0to5_Years = pd.Categorical(dataSet.renovation_in_0to5_Years)"
   ]
  },
  {
   "cell_type": "code",
   "execution_count": 226,
   "metadata": {},
   "outputs": [
    {
     "name": "stdout",
     "output_type": "stream",
     "text": [
      "<class 'pandas.core.frame.DataFrame'>\n",
      "RangeIndex: 21613 entries, 0 to 21612\n",
      "Data columns (total 22 columns):\n",
      "price                         21613 non-null int64\n",
      "room_bed                      21613 non-null int64\n",
      "room_bath                     21613 non-null float64\n",
      "lot_measure                   21613 non-null int64\n",
      "ceil                          21613 non-null float64\n",
      "coast                         21613 non-null category\n",
      "condition                     21613 non-null category\n",
      "quality                       21613 non-null category\n",
      "ceil_measure                  21613 non-null int64\n",
      "basement                      21613 non-null int64\n",
      "yr_built                      21613 non-null category\n",
      "zipcode                       21613 non-null category\n",
      "lat                           21613 non-null float64\n",
      "long                          21613 non-null float64\n",
      "furnished                     21613 non-null category\n",
      "yr_sold                       21613 non-null category\n",
      "age_sold                      21613 non-null int64\n",
      "Have_basement                 21613 non-null category\n",
      "renovation_in_15to20_Years    21613 non-null category\n",
      "renovation_in_10to15_Years    21613 non-null category\n",
      "renovation_in_5to10_Years     21613 non-null category\n",
      "renovation_in_0to5_Years      21613 non-null category\n",
      "dtypes: category(12), float64(4), int64(6)\n",
      "memory usage: 1.9 MB\n"
     ]
    }
   ],
   "source": [
    "dataSet.info()"
   ]
  },
  {
   "cell_type": "markdown",
   "metadata": {},
   "source": [
    "### 3. Exploratory Data Analysis"
   ]
  },
  {
   "cell_type": "markdown",
   "metadata": {},
   "source": [
    "#### 3.1 Univarient Analysis of Numeric Continous Attributes"
   ]
  },
  {
   "cell_type": "code",
   "execution_count": 227,
   "metadata": {
    "collapsed": true
   },
   "outputs": [],
   "source": [
    "# Function to find outliers in a given Feature.\n",
    "def findOutliers(column):\n",
    "    anomalies = []\n",
    "    #Find Q1\n",
    "    Q1 = column.quantile(0.25)\n",
    "    #Find Q3\n",
    "    Q3 = column.quantile(0.75)\n",
    "    #Find IQR\n",
    "    IQR = Q3-Q1\n",
    "    \n",
    "    #Calculate lower and upper limits\n",
    "    lower_limit  = Q1 - (IQR *1.5)\n",
    "    upper_limit =  Q3 + (IQR *1.5)\n",
    "    # Generate outliers\n",
    "    for outlier in column:\n",
    "        if outlier > upper_limit or outlier < lower_limit:\n",
    "            anomalies.append(round(outlier,2))\n",
    "    return np.array(anomalies)\n",
    "\n",
    "# Function to find number of zeros in a given Feature.\n",
    "def findZeros(col):\n",
    "    value_counts = col.value_counts()\n",
    "    df_val_counts = pd.DataFrame(value_counts)\n",
    "    df_value_counts = df_val_counts.reset_index()\n",
    "    df_value_counts.columns = ['unique_values', 'counts']\n",
    "    #print (df_value_counts)\n",
    "    tuple = df_value_counts.loc[df_value_counts['unique_values'] == 0, 'counts']\n",
    "    if (len(tuple) > 0):\n",
    "        return tuple.values[0]\n",
    "    else:\n",
    "        return 0\n",
    "    \n",
    "\n",
    "def plotCharts(col):\n",
    "    fig, (ax1,ax2)=plt.subplots(1,2,figsize=(8,5))\n",
    "\n",
    "    #boxplot\n",
    "    sn.boxplot(x=col,orient='v',ax=ax1)\n",
    "    ax1.set_ylabel(col.name)\n",
    "    ax1.set_title('Boxplot of {}'.format(col.name))\n",
    "    #ax1.tick_params(labelsize=15)\n",
    "\n",
    "    #distplot\n",
    "    sn.distplot(col,ax=ax2)\n",
    "    ax2.set_title('Distribution of {}'.format(col.name))\n",
    "    #ax2.tick_params(labelsize=15)\n",
    "\n",
    "# Function to list all parameters of a feature for analysis.\n",
    "def attributeAnalysis(col):\n",
    "   \n",
    "   print (\"Range : Min - {:.1f}  Max - {:.1f}\".format(col.min(), col.max()))\n",
    "   print (\"Mean : {:.1f}  \".format(col.mean()))\n",
    "   print (\"Median : {:.1f} \".format( col.median())) \n",
    "   print (\"Standard Deviation :  {:.1f} \".format(col.std()))\n",
    "   Q1=col.quantile(q=0.25)\n",
    "   Q2=col.quantile(q=0.50)\n",
    "   Q3=col.quantile(q=0.75)\n",
    "   print('1st Quartile (25%) : {:.1f}'.format(Q1))\n",
    "   print('2nd Quartile (50%) : {:.1f}'.format(Q2))\n",
    "   print('3st Quartile (75%) : {:.1f}'.format(Q3))\n",
    "   print('IQR : {:.1f} '.format(stats.iqr(col)))\n",
    "   print('Ouliers  : ', findOutliers(col))\n",
    "   print('Count of Ouliers  : ', len(findOutliers(col)))\n",
    "   print (\"Skewness : {:.2f}\".format(col.skew()))\n",
    "   print (\"Count of missing values : {:.0f}\".format(col.isnull().sum()))\n",
    "   print (\"Number of Zeros : {:.0f}\".format(findZeros(col)))\n",
    "\n",
    "   plotCharts (col)\n",
    "    \n",
    "    "
   ]
  },
  {
   "cell_type": "markdown",
   "metadata": {},
   "source": [
    "#### 3.1.1 lot_measure Attribute"
   ]
  },
  {
   "cell_type": "code",
   "execution_count": 228,
   "metadata": {},
   "outputs": [
    {
     "name": "stdout",
     "output_type": "stream",
     "text": [
      "Range : Min - 520.0  Max - 1651359.0\n",
      "Mean : 15107.0  \n",
      "Median : 7618.0 \n",
      "Standard Deviation :  41420.5 \n",
      "1st Quartile (25%) : 5040.0\n",
      "2nd Quartile (50%) : 7618.0\n",
      "3st Quartile (75%) : 10688.0\n",
      "IQR : 5648.0 \n",
      "Ouliers  :  [ 67269  56192  23790 ...  35889 217800 218472]\n",
      "Count of Ouliers  :  2425\n",
      "Skewness : 13.06\n",
      "Count of missing values : 0\n",
      "Number of Zeros : 0\n"
     ]
    },
    {
     "data": {
      "image/png": "[encoded data removed]",
      "text/plain": [
       "<matplotlib.figure.Figure at 0x12611d588>"
      ]
     },
     "metadata": {},
     "output_type": "display_data"
    }
   ],
   "source": [
    "attributeAnalysis (dataSet.lot_measure)  "
   ]
  },
  {
   "cell_type": "markdown",
   "metadata": {},
   "source": [
    "<b>Findings:</b>\n",
    "* The distribution is not normalized. There are 2 clusters\n",
    "* Postitive skewed and long tail. \n",
    "* 2425 Outliers. We will decide on removing outliers after performinh bi-variant analysis with target column.\n",
    "* No missing values."
   ]
  },
  {
   "cell_type": "markdown",
   "metadata": {},
   "source": [
    "#### 3.1.2 ceil_measure Attribute"
   ]
  },
  {
   "cell_type": "code",
   "execution_count": 229,
   "metadata": {},
   "outputs": [
    {
     "name": "stdout",
     "output_type": "stream",
     "text": [
      "Range : Min - 290.0  Max - 9410.0\n",
      "Mean : 1788.4  \n",
      "Median : 1560.0 \n",
      "Standard Deviation :  828.1 \n",
      "1st Quartile (25%) : 1190.0\n",
      "2nd Quartile (50%) : 1560.0\n",
      "3st Quartile (75%) : 2210.0\n",
      "IQR : 1020.0 \n",
      "Ouliers  :  [6070 3810 4040 4320 3990 4630 8860 4360 3810 4070 3920 4400 4460 3750\n",
      " 6530 4820 4475 5040 3900 4080 4130 3960 4080 5550 4570 4220 3850 6120\n",
      " 4340 4060 3860 4980 3830 4040 3820 4560 4020 3900 7880 4090 6660 3940\n",
      " 3830 4070 4750 6350 3810 3860 4190 4380 7320 4810 4020 4350 4290 3820\n",
      " 4030 3880 5000 5830 4270 3920 4930 4500 5320 3960 4140 4090 3800 4410\n",
      " 4470 6090 4000 5180 4010 4285 3840 3990 3950 4440 4060 5370 3790 4150\n",
      " 3920 3810 4010 3750 4120 4610 4050 3750 4130 3920 5060 3750 4420 4040\n",
      " 4500 4450 3830 4410 4660 3780 4540 3940 6110 3800 4070 4060 4040 3960\n",
      " 4030 4060 3880 4670 3860 4040 4340 4250 4030 4210 3770 5180 3970 4490\n",
      " 3950 4150 4280 4040 6380 4010 3820 4660 4065 5990 4350 4830 5610 3750\n",
      " 4310 3745 4670 4130 3930 5450 6640 4240 3830 3780 3760 4070 5760 4140\n",
      " 4410 4000 4170 4380 4130 4430 5550 4570 4320 4073 4060 3930 4950 5050\n",
      " 4430 5000 3800 6430 5020 4270 3950 3820 4210 4000 4410 4270 3970 3950\n",
      " 4020 3820 4150 3810 3870 4010 4330 4810 6370 3980 3780 3860 3840 3910\n",
      " 4080 4910 4430 3920 4140 4270 4150 3790 3800 4080 4310 4480 5220 4750\n",
      " 4000 4570 3770 4220 4490 3860 4000 3970 3990 5440 3920 4280 4590 3880\n",
      " 3845 4740 3810 4340 4400 3890 3890 5530 3990 5070 4200 4590 3800 3850\n",
      " 4370 4770 4110 4500 4440 4720 4160 4230 4260 4410 5090 4570 5300 4210\n",
      " 3890 5050 3770 4090 4750 5160 4200 5980 3760 4225 5240 5110 3780 3820\n",
      " 4640 4500 4210 5430 5330 4740 4130 3750 4260 4580 5480 4100 4430 5400\n",
      " 4010 4940 3840 4210 5130 4670 3850 4290 4220 3790 4100 4740 4780 4140\n",
      " 5710 4890 4170 4380 3910 4590 6420 4160 3810 4030 4460 4240 3830 4100\n",
      " 3780 4190 4060 3810 4610 4360 4390 3750 4460 4700 3910 3950 3840 3780\n",
      " 3870 3810 4120 4430 3880 3840 3910 3990 3950 5250 5990 3930 4860 5310\n",
      " 4280 4270 3990 6050 4900 4170 3810 4070 3950 3960 3800 3859 3855 5240\n",
      " 4270 4320 4570 3920 6220 3930 4030 3930 4910 4110 4100 3840 5670 3880\n",
      " 4750 4110 4290 7850 3915 3920 3860 4670 5050 4115 4770 4030 3770 3830\n",
      " 3940 4470 5153 4610 4260 4180 3860 4130 3880 4870 3930 3870 4660 4620\n",
      " 6070 5140 4160 4170 4240 3880 4140 3790 4010 4430 4150 3980 4050 3830\n",
      " 4170 4170 4180 4850 4120 4000 3800 3870 3860 4860 3840 4010 4510 4670\n",
      " 3890 4490 5370 4000 4030 4700 3760 5480 4260 4570 4700 4570 5450 4380\n",
      " 3906 4540 5190 4160 4960 4150 4400 4190 3900 4270 3750 4430 4620 5403\n",
      " 4600 4140 3828 4510 4320 3760 3950 4280 4200 3890 3780 4790 5370 3930\n",
      " 3860 4740 3880 4280 4070 8570 4170 3790 6085 3840 3920 4180 4470 5080\n",
      " 4100 4900 4230 3920 4133 3830 4360 4180 4083 6110 4280 4610 3960 3940\n",
      " 4100 6720 4070 3850 4500 3770 4050 3830 4410 4750 4300 4850 4140 3770\n",
      " 3980 5010 4010 4030 4440 4760 3820 8020 4020 3900 4570 4140 4840 3980\n",
      " 4470 4750 4420 4930 4150 3900 4080 4800 4250 4370 3810 4180 3910 3820\n",
      " 4240 3820 3970 4070 3800 4230 4130 4280 4340 4010 5230 4390 4930 5490\n",
      " 3960 4490 4280 3790 4150 3880 4030 3910 3980 4040 7680 7420 3880 3930\n",
      " 3905 4300 3880 3930 3970 3831 5400 3780 5020 5000 4370 4230 4820 4230\n",
      " 3920 3830 4560 9410 3870 4040 5190 4150 6290 4360 6200 4070 4160 5844\n",
      " 5770 4260 4020 4070 3870 4120 4360 4440 4150 3950 3990 5080 3870 4460\n",
      " 3810 4610 4350 4300 4180 5584 4070 4360 3940]\n",
      "Count of Ouliers  :  611\n",
      "Skewness : 1.45\n",
      "Count of missing values : 0\n",
      "Number of Zeros : 0\n"
     ]
    },
    {
     "data": {
      "image/png": "[encoded data removed]",
      "text/plain": [
       "<matplotlib.figure.Figure at 0x126036898>"
      ]
     },
     "metadata": {},
     "output_type": "display_data"
    }
   ],
   "source": [
    "attributeAnalysis (dataSet.ceil_measure) "
   ]
  },
  {
   "cell_type": "markdown",
   "metadata": {},
   "source": [
    "<b>Findings:</b>\n",
    "* The distribution looks normalized.\n",
    "* Postitive skewed and long tail. \n",
    "* 611 Outliers. We will decide on removing outliers after performing bi-variant analysis with target column.\n",
    "* No missing values."
   ]
  },
  {
   "cell_type": "markdown",
   "metadata": {},
   "source": [
    "#### 3.1.3 basement Attribute"
   ]
  },
  {
   "cell_type": "code",
   "execution_count": 231,
   "metadata": {},
   "outputs": [
    {
     "name": "stdout",
     "output_type": "stream",
     "text": [
      "Range : Min - 0.0  Max - 4820.0\n",
      "Mean : 291.5  \n",
      "Median : 0.0 \n",
      "Standard Deviation :  442.6 \n",
      "1st Quartile (25%) : 0.0\n",
      "2nd Quartile (50%) : 0.0\n",
      "3st Quartile (75%) : 560.0\n",
      "IQR : 560.0 \n",
      "Ouliers  :  [1720 1800 1450 1570 1600 1590 2120 1590 1800 1570 1540 1430 1750 1460\n",
      " 1950 1420 1440 1510 1540 2010 1410 1520 1450 4820 2850 2220 1790 1420\n",
      " 2030 1440 1490 2550 1500 1420 1760 1500 1610 1830 2060 1520 1410 1600\n",
      " 1460 1450 1500 1600 1800 1580 1780 2490 1480 1540 1590 1500 1790 1480\n",
      " 1700 1600 1940 1510 1960 1580 1570 1900 1500 1481 1620 1500 1500 1548\n",
      " 1420 1840 2310 1720 1600 1710 1620 2070 1940 1852 1500 1600 1460 1430\n",
      " 1690 1430 2550 1650 1690 2810 1520 1510 1800 1530 1420 1650 2040 1850\n",
      " 1620 1830 1660 1816 1500 1600 1530 1660 1590 1740 1550 1720 2020 1780\n",
      " 1670 1550 1540 1460 1660 2620 1430 1440 1420 1560 2130 1500 1500 1410\n",
      " 1810 1660 1530 1580 1570 1860 2220 1690 1650 1780 1430 1890 1500 2390\n",
      " 1440 1490 1580 2020 2090 1550 1740 1700 1640 1480 1660 1470 1580 1700\n",
      " 1820 1480 1790 2720 2060 1510 1590 1950 1600 1510 1610 1540 1440 1870\n",
      " 1470 1450 1790 1590 1580 1450 1680 1790 1620 1540 1510 1430 1600 1910\n",
      " 1580 1840 1420 2020 1870 1870 2160 1550 2600 1930 1810 1420 1890 1680\n",
      " 1430 1540 1430 1410 1440 3260 1870 1590 1900 1460 1440 1540 1570 1780\n",
      " 1450 1760 1500 1525 1830 1480 1420 2040 1530 1530 1850 2330 1430 1640\n",
      " 2060 1500 1780 1860 1500 1560 1630 2050 1420 1410 1460 1410 1650 2200\n",
      " 1480 1620 1680 1600 1450 1640 1560 1530 1510 1450 1420 1520 1720 2000\n",
      " 1780 1760 2240 1820 1600 1690 2590 1470 1630 2080 1420 1590 1510 2170\n",
      " 1870 1690 1600 1560 2180 1600 1480 1910 1630 1540 1450 1600 2580 1500\n",
      " 1870 2160 2150 2500 1480 1570 1580 1800 1798 2110 1430 1460 1680 1650\n",
      " 1690 1700 2150 1600 1430 1990 1590 1440 2220 1950 2060 1650 1790 2730\n",
      " 1450 1590 1500 3500 1440 1670 2250 1630 1420 1800 1540 1760 1450 1460\n",
      " 1720 1510 1410 1410 1580 2170 1800 1420 1670 1490 1700 1500 1860 1590\n",
      " 1480 1490 2610 1460 1460 2010 1460 1710 1740 1550 1820 1850 1640 1430\n",
      " 2100 1800 1710 1420 1520 2100 1760 1730 1780 1500 2110 1500 1590 1760\n",
      " 1500 1680 1920 1710 1580 1700 1430 1913 2070 1410 1500 1450 2030 1450\n",
      " 1830 1580 1900 1470 1720 3480 1500 2170 1560 1760 1940 1460 1950 1700\n",
      " 1610 1790 2020 2060 1560 2090 1940 1800 1680 1600 1450 1460 1570 1420\n",
      " 1650 1440 1420 1490 1620 1460 1710 1500 1530 1450 1910 1590 1660 1450\n",
      " 1420 2196 1800 1760 1440 1490 1410 1900 1520 1540 1450 2020 1750 1880\n",
      " 1460 2300 1500 1600 1420 1770 1850 2000 1750 1670 2360 1640 1510 1730\n",
      " 1510 1850 2160 1650 1800 1610 1480 2330 1940 1500 1720 1640 2190 1670\n",
      " 2080 1420 1450 1510 1690 1490 1500 1490 1580 1470 1500 2570 1490 1690\n",
      " 4130 1500 2200 3000 1660 1600 1520 1560 1850 1780 1830 1410 1590 2400\n",
      " 1650 2070 2150 2350 1620 1570]\n",
      "Count of Ouliers  :  496\n",
      "Skewness : 1.58\n",
      "Count of missing values : 0\n",
      "Number of Zeros : 13126\n"
     ]
    },
    {
     "data": {
      "image/png": "[encoded data removed]",
      "text/plain": [
       "<matplotlib.figure.Figure at 0x12b1fe240>"
      ]
     },
     "metadata": {},
     "output_type": "display_data"
    }
   ],
   "source": [
    "attributeAnalysis (dataSet.basement) "
   ]
  },
  {
   "cell_type": "markdown",
   "metadata": {},
   "source": [
    "<b>Findings:</b>\n",
    "* The distribution is not normalized. It has 2 clusters\n",
    "* Postitive skewed and long tail. \n",
    "* 496 Outliers. We will decide on removing outliers after performing bi-variant analysis with target column.\n",
    "* No missing values."
   ]
  },
  {
   "cell_type": "markdown",
   "metadata": {},
   "source": [
    "#### 3.1.4 ceil Attribute"
   ]
  },
  {
   "cell_type": "code",
   "execution_count": 232,
   "metadata": {},
   "outputs": [
    {
     "name": "stdout",
     "output_type": "stream",
     "text": [
      "Range : Min - 1.0  Max - 3.5\n",
      "Mean : 1.5  \n",
      "Median : 1.5 \n",
      "Standard Deviation :  0.5 \n",
      "1st Quartile (25%) : 1.0\n",
      "2nd Quartile (50%) : 1.5\n",
      "3st Quartile (75%) : 2.0\n",
      "IQR : 1.0 \n",
      "Ouliers  :  []\n",
      "Count of Ouliers  :  0\n",
      "Skewness : 0.62\n",
      "Count of missing values : 0\n",
      "Number of Zeros : 0\n"
     ]
    },
    {
     "data": {
      "image/png": "[encoded data removed]",
      "text/plain": [
       "<matplotlib.figure.Figure at 0x12b53c588>"
      ]
     },
     "metadata": {},
     "output_type": "display_data"
    }
   ],
   "source": [
    "attributeAnalysis (dataSet.ceil)  "
   ]
  },
  {
   "cell_type": "markdown",
   "metadata": {},
   "source": [
    "<b>Findings:</b>\n",
    "* The distribution is not normalized. There are 4 clusters\n",
    "* Postitive skewed. \n",
    "* 0 Outliers\n",
    "* No missing values."
   ]
  },
  {
   "cell_type": "markdown",
   "metadata": {},
   "source": [
    "#### 3.1.5 room_bed Attribute"
   ]
  },
  {
   "cell_type": "code",
   "execution_count": 240,
   "metadata": {},
   "outputs": [
    {
     "name": "stdout",
     "output_type": "stream",
     "text": [
      "Range : Min - 0.0  Max - 11.0\n",
      "Mean : 3.4  \n",
      "Median : 3.0 \n",
      "Standard Deviation :  0.9 \n",
      "1st Quartile (25%) : 3.0\n",
      "2nd Quartile (50%) : 3.0\n",
      "3st Quartile (75%) : 4.0\n",
      "IQR : 1.0 \n",
      "Ouliers  :  [ 6  6  6  6  1  1  6  6  8  1  1  1  6  1  6  1  1  6  1  6  6  1  1  1\n",
      "  1  1  7  1  1  1  1  8  6  1  1  6  1  1  6  0  6  8  9  6  7  6  6  6\n",
      "  0  6  1  6  1  1  1  7  6  6  6  8  1  6  8  6  1  6  1  6  1  6  6  7\n",
      "  6  1  1  6  6  6  1  6  1  1  6  6  6  6  7  8  1  6  1  6  6  6  6  6\n",
      "  6  6  6  1  1  6  6  6  1  6  6  6  1  1  6  1  6  1  6  6  6  6  8  1\n",
      "  6  6  6  6  1  7  1  6  1  6  6  6  6  1 10  6  6  1  6  6  6  1  6  6\n",
      "  6  1  6  6  1  7  6  1  1  6  7  6  6  1  6  1  1  1  6  6  6  6  6  6\n",
      "  6  1  6  7  6  6  1  7  6  7  1  6  7  1  1  1  0  6  9  7  6  6  6  6\n",
      "  8  1  0  6  6  1  1  6  1  1  1  6  6  1  6  1  1  7  6  1  1  6  6  1\n",
      "  6  1  6  6  7  6  6  6  6  6  6  6  1  1  0  1  6  1  6  7  1  1  1  1\n",
      "  6  1  6  6  1  6  6  6  6  1  1  6  1  6  6  6  6  7  1  6  6  6  6  6\n",
      "  6  6  6  1  1  1  6  6  0  1  6  1  7  1  1  1  6  1  6  1  6  6  6  6\n",
      "  9  6  1  6  6  1  1  8  6  1  6  7  1  6  6  6  6  6  1  6  1  6  1  6\n",
      "  1 10  1  7  1  6  6  1  6  6  1  1  0  6  6  6  6  6  6  6  8  7  6  6\n",
      "  6  1  6  1  1  1  6  6  1  6  1  1  7  1  1  1  6  8  6  1  1  1  9  6\n",
      "  1  6  0  6  6  6 11  1  6  6  6  6  1  6  1  6  0  6  6  7  7  1  6  1\n",
      "  6  6  1  6  7  0  7  0  1  1  1  6  6  7  6  6  1  1  1  6  1  6  1  6\n",
      "  1  7  6  6  1  7  1  1  6  6  6  6  1  1  6  6  8  6  6  1 10  1  1  7\n",
      "  1  6  1  6  1  6  6  6  1  1  1  1  6  6  1  6  1  6  6  6  6  6  6  7\n",
      "  6  6  6  1  1  1  1  6  6  1  6  1  1  1  6  1  6  1  6  6  7  1  6  1\n",
      "  0  1  1  6  7  8  6  1  7  1  1  1  6  6  6  6  6  1  6  6  7  6  6  6\n",
      "  1  1  7  6  6  1  6  6  1  1  1  6  1  6  7  9  6  1  1  6  6  1  6  9\n",
      "  0  1  6  6  7  6  1  1  1  1  1  6  6  1  6  1  6]\n",
      "Count of Ouliers  :  545\n",
      "Skewness : 0.52\n",
      "Count of missing values : 0\n",
      "Number of Zeros : 13\n"
     ]
    },
    {
     "data": {
      "image/png": "[encoded data removed]",
      "text/plain": [
       "<matplotlib.figure.Figure at 0x125ee3898>"
      ]
     },
     "metadata": {},
     "output_type": "display_data"
    }
   ],
   "source": [
    "attributeAnalysis (dataSet.room_bed)  "
   ]
  },
  {
   "cell_type": "markdown",
   "metadata": {},
   "source": [
    "<b>Findings:</b>\n",
    "* The distribution is not normalized. It has lot of clusters\n",
    "* Postitive skewed and long tail. \n",
    "* 546 Outliers. We will decide on removing outliers after performing bi-variant analysis with target column.\n",
    "* There are 13 records with 0 bed rooms, it can be a valid case. "
   ]
  },
  {
   "cell_type": "markdown",
   "metadata": {},
   "source": [
    "#### 3.1.6 room_bath Attribute"
   ]
  },
  {
   "cell_type": "code",
   "execution_count": 234,
   "metadata": {},
   "outputs": [
    {
     "name": "stdout",
     "output_type": "stream",
     "text": [
      "Range : Min - 0.0  Max - 8.0\n",
      "Mean : 2.1  \n",
      "Median : 2.2 \n",
      "Standard Deviation :  0.8 \n",
      "1st Quartile (25%) : 1.8\n",
      "2nd Quartile (50%) : 2.2\n",
      "3st Quartile (75%) : 2.5\n",
      "IQR : 0.8 \n",
      "Ouliers  :  [4.   4.5  4.5  5.25 4.75 4.25 4.   5.   7.75 3.75 4.5  3.75 3.75 5.5\n",
      " 6.75 4.25 4.5  4.   3.75 4.25 4.5  3.75 3.75 3.75 4.5  3.75 6.25 4.\n",
      " 3.75 4.   5.   3.75 4.   3.75 4.75 3.75 4.   0.   3.75 4.75 4.   5.75\n",
      " 3.75 3.75 4.25 3.75 5.5  3.75 4.   4.   4.   0.   4.   5.   4.25 3.75\n",
      " 4.   5.5  4.   4.75 4.   4.   4.5  3.75 4.   5.25 4.5  4.5  4.   3.75\n",
      " 4.   4.5  5.25 3.75 4.25 4.25 3.75 4.5  4.   4.25 4.5  5.   4.25 4.75\n",
      " 5.5  3.75 3.75 3.75 3.75 4.   3.75 3.75 3.75 4.   4.25 4.   5.25 6.\n",
      " 4.   5.   3.75 4.   3.75 3.75 3.75 3.75 5.25 4.5  4.   4.5  3.75 4.5\n",
      " 3.75 3.75 4.25 4.25 5.   3.75 4.   4.   4.   3.75 4.5  5.25 3.75 4.5\n",
      " 4.5  4.25 4.5  3.75 4.25 4.   5.5  4.   4.75 0.5  4.   5.   4.5  3.75\n",
      " 4.   4.   4.5  4.5  4.25 4.5  5.5  3.75 3.75 4.5  5.   4.   4.   4.25\n",
      " 6.   3.75 3.75 3.75 6.   4.5  4.25 4.75 3.75 5.25 4.75 3.75 4.   0.5\n",
      " 3.75 4.25 4.   3.75 4.   4.25 3.75 4.5  4.25 3.75 4.   3.75 4.5  3.75\n",
      " 0.5  4.5  4.25 4.25 4.5  4.25 3.75 4.5  0.   3.75 4.5  4.5  5.   3.75\n",
      " 4.5  3.75 4.25 3.75 3.75 4.   4.   4.25 4.5  4.   4.25 0.   3.75 4.5\n",
      " 4.   0.5  4.5  0.   4.   4.25 3.75 3.75 4.5  4.25 4.   4.5  4.5  4.75\n",
      " 4.   4.25 5.   3.75 3.75 4.25 4.   4.   3.75 3.75 5.25 3.75 3.75 3.75\n",
      " 4.5  4.5  4.5  4.25 4.   4.5  4.5  3.75 3.75 4.   4.5  5.   4.   4.\n",
      " 3.75 3.75 4.25 4.25 0.   4.   4.   3.75 6.   4.25 4.   4.   5.5  4.5\n",
      " 4.25 4.   4.   4.   4.25 3.75 4.25 3.75 6.5  4.   4.25 3.75 5.   4.25\n",
      " 4.25 4.5  4.5  3.75 4.5  4.   3.75 4.5  3.75 4.75 4.5  4.5  4.25 4.25\n",
      " 3.75 3.75 3.75 3.75 4.   4.25 4.75 3.75 4.5  5.   4.75 4.5  4.5  3.75\n",
      " 4.   3.75 4.5  5.   3.75 4.75 4.   5.   4.   4.5  5.   4.   4.5  3.75\n",
      " 3.75 4.25 4.25 5.25 4.5  5.5  3.75 3.75 5.75 4.   5.25 4.25 3.75 4.25\n",
      " 4.   5.25 4.5  4.5  5.   4.5  4.   4.   4.5  5.25 3.75 4.75 4.   4.\n",
      " 4.25 3.75 3.75 3.75 3.75 4.5  4.5  4.   3.75 4.   4.25 4.5  4.25 3.75\n",
      " 3.75 4.25 3.75 4.25 3.75 4.25 3.75 3.75 4.75 4.5  4.5  4.   4.   4.\n",
      " 7.5  4.25 3.75 0.   4.   4.25 4.5  4.   4.   4.5  3.75 4.   3.75 4.25\n",
      " 3.75 3.75 4.75 4.   3.75 3.75 4.   4.   4.5  4.   3.75 3.75 4.   3.75\n",
      " 5.5  4.   3.75 4.   4.   4.   0.   3.75 4.5  4.5  4.5  3.75 3.75 3.75\n",
      " 3.75 4.   4.5  3.75 4.   4.25 4.75 4.   4.   4.5  3.75 4.   3.75 4.25\n",
      " 8.   3.75 4.5  4.   3.75 3.75 4.5  5.   3.75 4.   3.75 3.75 3.75 5.25\n",
      " 4.   4.   4.   3.75 4.25 4.   4.   3.75 3.75 4.5  5.   4.   4.5  4.\n",
      " 4.5  3.75 3.75 4.   4.   4.   4.   4.   4.25 3.75 3.75 4.5  4.5  5.\n",
      " 6.25 4.5  4.25 4.   6.5  3.75 4.25 4.25 4.   4.   4.   4.   4.   5.75\n",
      " 4.   3.75 4.75 4.5  4.5  0.   3.75 4.   4.25 4.25 3.75 6.   4.25 4.75\n",
      " 4.25 4.   3.75 6.   3.75 4.   4.5  0.   4.25 3.75 4.   4.25 4.25 4.\n",
      " 4.5  4.   4.75 4.5  3.75 4.25 4.   4.5  4.5  4.25 4.25 4.   4.25 8.\n",
      " 4.   3.75 5.   4.   4.5  3.75 3.75 5.5  4.   5.75 3.75 3.75 4.25 4.75\n",
      " 4.5  4.5  4.5  4.   4.   4.25 4.   4.   4.5  4.   4.75 4.75 4.25 6.75\n",
      " 4.   4.5  4.5  4.25 3.75 4.25 4.5  4.5  4.   4.   3.75]\n",
      "Count of Ouliers  :  571\n",
      "Skewness : 0.51\n",
      "Count of missing values : 0\n",
      "Number of Zeros : 10\n"
     ]
    },
    {
     "data": {
      "image/png": "[encoded data removed]",
      "text/plain": [
       "<matplotlib.figure.Figure at 0x12b41e320>"
      ]
     },
     "metadata": {},
     "output_type": "display_data"
    }
   ],
   "source": [
    "attributeAnalysis (dataSet.room_bath)  "
   ]
  },
  {
   "cell_type": "markdown",
   "metadata": {},
   "source": [
    "<b>Findings:</b>\n",
    "* The distribution is not normalized. There are lot of clusters\n",
    "* Postitive skewed. \n",
    "* 571 Outliers. We will decide on removing outliers after performing bi-variant analysis with target column.\n",
    "* There are 10 records with 0 bath rooms, it can be a valid case. "
   ]
  },
  {
   "cell_type": "markdown",
   "metadata": {
    "collapsed": true
   },
   "source": [
    "#### 3.1.7 age_sold Attribute"
   ]
  },
  {
   "cell_type": "code",
   "execution_count": 235,
   "metadata": {},
   "outputs": [
    {
     "name": "stdout",
     "output_type": "stream",
     "text": [
      "Range : Min - -1.0  Max - 115.0\n",
      "Mean : 43.3  \n",
      "Median : 40.0 \n",
      "Standard Deviation :  29.4 \n",
      "1st Quartile (25%) : 18.0\n",
      "2nd Quartile (50%) : 40.0\n",
      "3st Quartile (75%) : 63.0\n",
      "IQR : 45.0 \n",
      "Ouliers  :  []\n",
      "Count of Ouliers  :  0\n",
      "Skewness : 0.47\n",
      "Count of missing values : 0\n",
      "Number of Zeros : 430\n"
     ]
    },
    {
     "data": {
      "image/png": "[encoded data removed]",
      "text/plain": [
       "<matplotlib.figure.Figure at 0x12b42c6a0>"
      ]
     },
     "metadata": {},
     "output_type": "display_data"
    }
   ],
   "source": [
    "attributeAnalysis (dataSet.age_sold)  "
   ]
  },
  {
   "cell_type": "markdown",
   "metadata": {},
   "source": [
    "<b>Findings:</b>\n",
    "* The distribution is not normalized. There are lot of clusters\n",
    "* Postitive skewed. \n",
    "* No outliers\n",
    "* No missing values. There 430 records with 0 age, it means the house was sold on same year it was built."
   ]
  },
  {
   "cell_type": "markdown",
   "metadata": {},
   "source": [
    "#### 3.1.8 Price Attribute"
   ]
  },
  {
   "cell_type": "code",
   "execution_count": 236,
   "metadata": {},
   "outputs": [
    {
     "name": "stdout",
     "output_type": "stream",
     "text": [
      "Range : Min - 75000.0  Max - 7700000.0\n",
      "Mean : 540182.2  \n",
      "Median : 450000.0 \n",
      "Standard Deviation :  367362.2 \n",
      "1st Quartile (25%) : 321950.0\n",
      "2nd Quartile (50%) : 450000.0\n",
      "3st Quartile (75%) : 645000.0\n",
      "IQR : 323050.0 \n",
      "Ouliers  :  [1450000 1570000 1660000 ... 1980000 2300000 1500000]\n",
      "Count of Ouliers  :  1159\n",
      "Skewness : 4.02\n",
      "Count of missing values : 0\n",
      "Number of Zeros : 0\n"
     ]
    },
    {
     "data": {
      "image/png": "[encoded data removed]",
      "text/plain": [
       "<matplotlib.figure.Figure at 0x12efd86d8>"
      ]
     },
     "metadata": {},
     "output_type": "display_data"
    }
   ],
   "source": [
    "attributeAnalysis (dataSet.price)  "
   ]
  },
  {
   "cell_type": "markdown",
   "metadata": {},
   "source": [
    "<b>Findings:</b>\n",
    "* The distribution is kind of normalized\n",
    "* Postitive skewed with long tail.\n",
    "* There are 1159 outliers.\n",
    "* No missing values. "
   ]
  },
  {
   "cell_type": "markdown",
   "metadata": {},
   "source": [
    "#### 3.2 Fix data issues in columns\n"
   ]
  },
  {
   "cell_type": "code",
   "execution_count": 239,
   "metadata": {
    "collapsed": true
   },
   "outputs": [],
   "source": [
    "# In one of the record there is 33 bed rooms which might be a typo. Replace it will 3.\n",
    "dataSet.loc[dataSet.room_bed == 33, 'room_bed'] = 3"
   ]
  },
  {
   "cell_type": "code",
   "execution_count": 241,
   "metadata": {
    "collapsed": true
   },
   "outputs": [],
   "source": [
    "# There 12 records for which year built is 2015 and year sold is 2014. We will fix by replacing year built as 2014\n",
    "\n",
    "dataSet.loc[dataSet.age_sold == -1, 'yr_built'] = 2014\n",
    "dataSet.loc[dataSet.age_sold == -1, 'age_sold'] = 0"
   ]
  },
  {
   "cell_type": "code",
   "execution_count": 244,
   "metadata": {
    "collapsed": true
   },
   "outputs": [],
   "source": [
    "dataSet.to_csv('formated_innercity.csv') "
   ]
  },
  {
   "cell_type": "markdown",
   "metadata": {},
   "source": [
    "## Questions to be asked in next session\n",
    "\n",
    "1. Do we need to consider Lat and Long?\n",
    "2. Bed Room, Bath Room and Ceil - Should we consider as Categorical? \n",
    "3. Drop living_measure15 & lot_measure15 ?"
   ]
  },
  {
   "cell_type": "code",
   "execution_count": null,
   "metadata": {
    "collapsed": true
   },
   "outputs": [],
   "source": []
  }
 ],
 "metadata": {
  "kernelspec": {
   "display_name": "Python 3",
   "language": "python",
   "name": "python3"
  },
  "language_info": {
   "codemirror_mode": {
    "name": "ipython",
    "version": 3
   },
   "file_extension": ".py",
   "mimetype": "text/x-python",
   "name": "python",
   "nbconvert_exporter": "python",
   "pygments_lexer": "ipython3",
   "version": "3.6.3"
  }
 },
 "nbformat": 4,
 "nbformat_minor": 2
}
