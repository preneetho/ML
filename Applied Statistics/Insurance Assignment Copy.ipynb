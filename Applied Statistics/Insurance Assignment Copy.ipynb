{
 "cells": [
  {
   "cell_type": "code",
   "execution_count": 1,
   "metadata": {
    "collapsed": true
   },
   "outputs": [],
   "source": [
    "import numpy as np\n",
    "import pandas as pd\n",
    "import seaborn as sns\n",
    "import matplotlib.pyplot as plt\n",
    "%matplotlib inline\n",
    "from scipy.stats import ttest_1samp, ttest_ind, mannwhitneyu, levene, shapiro\n",
    "from statsmodels.stats.power import ttest_power\n",
    "from statsmodels.stats.proportion import proportions_ztest\n",
    "from scipy.stats import shapiro\n",
    "\n",
    "sns.set(color_codes = True)"
   ]
  },
  {
   "cell_type": "code",
   "execution_count": 2,
   "metadata": {},
   "outputs": [],
   "source": [
    "insData = pd.read_csv(\"insurance.csv\")\n"
   ]
  },
  {
   "cell_type": "markdown",
   "metadata": {},
   "source": [
    "## Hypothesis Testing##\n",
    "\n",
    "### 4a: Do charges of people who smoke differ significantly from the people who don't?.###"
   ]
  },
  {
   "cell_type": "markdown",
   "metadata": {},
   "source": [
    "Test whether the means of two independent samples are significantly different using 2-sample t-test.\n",
    "\n",
    "<b>Step-1: Set up Hypothesis (NULL and Alternate)</b>\n",
    "\n",
    "<b>$H_0$:</b>  Mean of charges on smokers is <b>equal to</b> Mean of charges on non-somker. --> $\\mu1$ = $\\mu2$<br>\n",
    "<b>$H_A$: </b>  Mean of charges on smokers is <b>not equal</b> to Mean of charges on non-somker --> $\\mu1$ <> $\\mu2$\n",
    "\n",
    "<p> Here $\\mu1$, $\\mu2$ are mean of insurance charges of smokers  and non-smokers respectively <br>\n",
    "\n",
    "<b>Step-2: Set the Criteria for  decision.</b>\n",
    "<p>Test the hyposthesis at <b>5% level of significance</b>. Since it is 2 tailed, singnificance level will be 2.5% on both sides. \n",
    "\n",
    "<p><b>Step-3: Identify the test statistic.</b>\n",
    "<p>Here we are comparing 2 independent sample variable, hence will go with <b>2-sample t-test</b>\n",
    "\n",
    "<b>Step-4: Compute the random chance of probability.</b>"
   ]
  },
  {
   "cell_type": "code",
   "execution_count": 3,
   "metadata": {},
   "outputs": [
    {
     "name": "stdout",
     "output_type": "stream",
     "text": [
      "t_statistic = 46.66; p_value = 0.0000\n"
     ]
    }
   ],
   "source": [
    "#get the data into 2 groups\n",
    "grp_smokers = insData.query('smoker == \"yes\"')['charges']\n",
    "grp_nonsmokers = insData.query('smoker == \"no\"')['charges']\n",
    "#print (\"Smokers = {}, Non Smokers = {}\".format(grp_smokers.mean(), grp_nonsmokers.mean()))\n",
    "\n",
    "#2-Sample t-test \n",
    "t_statistic, p_value = ttest_ind(grp_smokers, grp_nonsmokers)\n",
    "#t_statistic, p_value = ttest_ind(grp_nonsmokers, grp_smokers)\n",
    "print(\"t_statistic = {:.2f}; p_value = {:.4f}\".format(t_statistic, p_value))"
   ]
  },
  {
   "cell_type": "markdown",
   "metadata": {},
   "source": [
    "<b>Step-4 : Make Decision</b>\n",
    "<br> The probability (p_value = 0.0000) is less than 0.025 significance level, so we will <b>Reject the Null hypothesis.</b> \n",
    "\n",
    "#### Which implies that the insurance charges vary significantly for smokers and non-smokers ####\n"
   ]
  },
  {
   "cell_type": "markdown",
   "metadata": {
    "collapsed": true
   },
   "source": [
    "\n",
    "### 4b: Does bmi of males differ significantly from that of female.###"
   ]
  },
  {
   "cell_type": "markdown",
   "metadata": {},
   "source": [
    "\n",
    "<b>Step-1: Set up Hypothesis (NULL and Alternate)</b>\n",
    "\n",
    "$H_0$: Mean of bmi of males is equal to Mean of bmi of females. --> $\\mu1$ = $\\mu2$  <br>\n",
    "$H_A$: Mean of bmi of males is not equal to Mean of bmi of females --> $\\mu1$ <> $\\mu2$\n",
    "\n",
    "<p> Here $\\mu1$, $\\mu2$ are mean of bmi of male and female respectively <br>\n",
    "\n",
    "<b>Step-2: Set the Criteria for  decision.</b>\n",
    "<p>Test the hyposthesis at <b>5% level of significance</b>. Since it is 2 tailed, singnificance level will be 2.5% on both sides. \n",
    "\n",
    "<p><b>Step-3: Identify the test statistic.</b>\n",
    "<p>Here we are comparing 2 independent sample variable, hence will go with <b>2-sample t-test</b>\n",
    "\n",
    "<b>Step-4: Compute the random chance of probability.</b>"
   ]
  },
  {
   "cell_type": "code",
   "execution_count": 4,
   "metadata": {},
   "outputs": [
    {
     "name": "stdout",
     "output_type": "stream",
     "text": [
      "male bmi mean = 30.94; female bmi mean = 30.3777\n",
      "t_statistic = -1.70; p_value = 0.0900\n"
     ]
    }
   ],
   "source": [
    "#get the data into 2 groups\n",
    "bmi_male = insData.query('sex == \"male\"')['bmi']\n",
    "bmi_female = insData.query('sex == \"female\"')['bmi']\n",
    "\n",
    "print(\"male bmi mean = {:.2f}; female bmi mean = {:.4f}\".format(bmi_male.mean(), bmi_female.mean()))\n",
    "\n",
    "#2-Sample t-test \n",
    "t_statistic, p_value = ttest_ind(bmi_female, bmi_male)\n",
    "print(\"t_statistic = {:.2f}; p_value = {:.4f}\".format(t_statistic, p_value))"
   ]
  },
  {
   "cell_type": "markdown",
   "metadata": {},
   "source": [
    "<b>Step-4 : Make Decision</b>\n",
    "<br> The probability (p_value = 0.0900) is greater than 0.025 significance level hence does not fall in the critcial region, so we will <b>Fail to reject Null hypothesis.</b> \n",
    "\n",
    "#### So BMI of male and females does not differ significantly ####\n"
   ]
  },
  {
   "cell_type": "markdown",
   "metadata": {
    "collapsed": true
   },
   "source": [
    "### 4c: Is the proportion of smokers significantly differentin different genders?###"
   ]
  },
  {
   "cell_type": "markdown",
   "metadata": {},
   "source": [
    "Test whether the proportions of smokers are significantly different for genders.\n",
    "\n",
    "<b>Step-1: Set up Hypothesis (NULL and Alternate)</b>\n",
    "\n",
    "$H_0$: Proportion of smokers in male & female are equal<br>\n",
    "$H_A$: Proportion of smokers in male & female are significantly different\n",
    "\n",
    "\n",
    "<b>Step-2: Set the Criteria for  decision.</b>\n",
    "<p>Test the hyposthesis at <b>5% level of significance</b>.\n",
    "\n",
    "<p><b>Step-3: Identify the test statistic.</b>\n",
    "<p>Here we have 2 categorical variable (sex and smoker) and  Analysis of proprotion of smokers w.r.t sex needs to be done.Hence the test method to be used is <b>two proportions z-test</b>\n",
    "\n",
    "<p><b>Step-4: Compute the random chance of probability.</b>"
   ]
  },
  {
   "cell_type": "code",
   "execution_count": 5,
   "metadata": {},
   "outputs": [
    {
     "name": "stdout",
     "output_type": "stream",
     "text": [
      "fsmokers = 115.00; msmokers = 159.0000\n",
      "females = 662.00; males = 676.0000\n",
      "t_statistic = -2.79; p_value = 0.0053\n"
     ]
    }
   ],
   "source": [
    "fsmokers = insData[insData['sex'] == 'female'].smoker.value_counts()[1]  \n",
    "msmokers = insData[insData['sex'] == 'male'].smoker.value_counts()[1] \n",
    "noOffemales = insData.sex.value_counts()[1] \n",
    "noOfmales = insData.sex.value_counts()[0] \n",
    "\n",
    "print(\"fsmokers = {:.2f}; msmokers = {:.4f}\".format(fsmokers, msmokers))\n",
    "print(\"females = {:.2f}; males = {:.4f}\".format(noOffemales, noOfmales))\n",
    "\n",
    "stat, pval = proportions_ztest([fsmokers, msmokers] , [noOffemales, noOfmales])\n",
    "print(\"t_statistic = {:.2f}; p_value = {:.4f}\".format(stat, pval))"
   ]
  },
  {
   "cell_type": "markdown",
   "metadata": {},
   "source": [
    "<b>Step-5 : Make Decision</b>\n",
    "<br> The p_value (0.0053) is less than 0.05 significance level hence it falls in the critcial region, so we will <b>Reject Null hypothesis.</b> \n",
    "\n",
    "#### So there is enough evidence to state that proportion of smokers significantly varies in male & females ####"
   ]
  },
  {
   "cell_type": "markdown",
   "metadata": {
    "collapsed": true
   },
   "source": [
    "\n",
    "### 4d: Is the distribution of bmi across women with no children, one child and two children, the same ?###"
   ]
  },
  {
   "cell_type": "code",
   "execution_count": 6,
   "metadata": {},
   "outputs": [
    {
     "data": {
      "text/html": [
       "<div>\n",
       "<style>\n",
       "    .dataframe thead tr:only-child th {\n",
       "        text-align: right;\n",
       "    }\n",
       "\n",
       "    .dataframe thead th {\n",
       "        text-align: left;\n",
       "    }\n",
       "\n",
       "    .dataframe tbody tr th {\n",
       "        vertical-align: top;\n",
       "    }\n",
       "</style>\n",
       "<table border=\"1\" class=\"dataframe\">\n",
       "  <thead>\n",
       "    <tr style=\"text-align: right;\">\n",
       "      <th></th>\n",
       "      <th>age</th>\n",
       "      <th>sex</th>\n",
       "      <th>bmi</th>\n",
       "      <th>children</th>\n",
       "      <th>smoker</th>\n",
       "      <th>region</th>\n",
       "      <th>charges</th>\n",
       "    </tr>\n",
       "  </thead>\n",
       "  <tbody>\n",
       "    <tr>\n",
       "      <th>0</th>\n",
       "      <td>19</td>\n",
       "      <td>female</td>\n",
       "      <td>27.900</td>\n",
       "      <td>0</td>\n",
       "      <td>yes</td>\n",
       "      <td>southwest</td>\n",
       "      <td>16884.92400</td>\n",
       "    </tr>\n",
       "    <tr>\n",
       "      <th>1</th>\n",
       "      <td>18</td>\n",
       "      <td>male</td>\n",
       "      <td>33.770</td>\n",
       "      <td>1</td>\n",
       "      <td>no</td>\n",
       "      <td>southeast</td>\n",
       "      <td>1725.55230</td>\n",
       "    </tr>\n",
       "    <tr>\n",
       "      <th>2</th>\n",
       "      <td>28</td>\n",
       "      <td>male</td>\n",
       "      <td>33.000</td>\n",
       "      <td>3</td>\n",
       "      <td>no</td>\n",
       "      <td>southeast</td>\n",
       "      <td>4449.46200</td>\n",
       "    </tr>\n",
       "    <tr>\n",
       "      <th>3</th>\n",
       "      <td>33</td>\n",
       "      <td>male</td>\n",
       "      <td>22.705</td>\n",
       "      <td>0</td>\n",
       "      <td>no</td>\n",
       "      <td>northwest</td>\n",
       "      <td>21984.47061</td>\n",
       "    </tr>\n",
       "    <tr>\n",
       "      <th>4</th>\n",
       "      <td>32</td>\n",
       "      <td>male</td>\n",
       "      <td>28.880</td>\n",
       "      <td>0</td>\n",
       "      <td>no</td>\n",
       "      <td>northwest</td>\n",
       "      <td>3866.85520</td>\n",
       "    </tr>\n",
       "  </tbody>\n",
       "</table>\n",
       "</div>"
      ],
      "text/plain": [
       "   age     sex     bmi  children smoker     region      charges\n",
       "0   19  female  27.900         0    yes  southwest  16884.92400\n",
       "1   18    male  33.770         1     no  southeast   1725.55230\n",
       "2   28    male  33.000         3     no  southeast   4449.46200\n",
       "3   33    male  22.705         0     no  northwest  21984.47061\n",
       "4   32    male  28.880         0     no  northwest   3866.85520"
      ]
     },
     "execution_count": 6,
     "metadata": {},
     "output_type": "execute_result"
    }
   ],
   "source": [
    "insData.head()"
   ]
  },
  {
   "cell_type": "code",
   "execution_count": 7,
   "metadata": {},
   "outputs": [
    {
     "name": "stdout",
     "output_type": "stream",
     "text": [
      "Zero child count = 289 mean bmi = 30.36\n",
      "One child count = 158 mean bmi = 30.05\n",
      "Two child count = 119 mean bmi = 30.65\n"
     ]
    }
   ],
   "source": [
    "#Get the bmi values of females with 0, 1, 2 children in different arrays.\n",
    "bmi_zerochild = insData.query('sex == \"female\" & children == 0')['bmi']\n",
    "bmi_onechild = insData.query('sex == \"female\" & children == 1')['bmi']\n",
    "bmi_twochild = insData.query('sex == \"female\" & children == 2')['bmi']\n",
    "\n",
    "print (\"Zero child count = {} mean bmi = {:.2f}\".format(len(bmi_zerochild), bmi_zerochild.mean()))\n",
    "print (\"One child count = {} mean bmi = {:.2f}\".format(len(bmi_onechild), bmi_onechild.mean()))\n",
    "print (\"Two child count = {} mean bmi = {:.2f}\".format(len(bmi_twochild), bmi_twochild.mean()))\n",
    "\n",
    "#create a dataframe to hold all 3 above created arrays\n",
    "mean_bmi_df = pd.DataFrame()\n",
    "\n",
    "#format the data in required format for testing\n",
    "df0 = pd.DataFrame({'Children': '0', 'BMI':bmi_zerochild})\n",
    "df1 = pd.DataFrame({'Children': '1', 'BMI':bmi_onechild})\n",
    "df2 = pd.DataFrame({'Children': '2', 'BMI':bmi_twochild})\n",
    "\n",
    "mean_bmi_df = mean_bmi_df.append(df0).append(df1).append(df2) \n",
    "#mean_bmi_df"
   ]
  },
  {
   "cell_type": "code",
   "execution_count": 8,
   "metadata": {},
   "outputs": [
    {
     "data": {
      "image/png": "[encoded data removed]",
      "text/plain": [
       "<matplotlib.figure.Figure at 0x10f68bc88>"
      ]
     },
     "metadata": {},
     "output_type": "display_data"
    }
   ],
   "source": [
    "sns.boxplot(x = \"Children\", y = \"BMI\", data = mean_bmi_df)\n",
    "plt.title('BMI of females with 0, 1, 2 children')\n",
    "plt.show()"
   ]
  },
  {
   "cell_type": "markdown",
   "metadata": {},
   "source": [
    "Test whether distribution of bmi across women with no children, one child and two children, the vary using One Way Anova test.\n",
    "\n",
    "<b>Step-1: Set up Hypothesis (NULL and Alternate)</b>\n",
    "\n",
    "* $H_0$: $\\mu1$ = $\\mu2$ = $\\mu3$\n",
    "* $H_A$: At least one $\\mu$ differs \n",
    "\n",
    "Here $\\mu1$, $\\mu2$ and $\\mu3$ are the mean bmi of females with 0,1, 2 children.<br><br>\n",
    "<b>Step-2: Set the Criteria for  decision.</b>\n",
    "<p>Test the hyposthesis at <b>5% level of significance</b>. \n",
    "\n",
    "<p><b>Step-3: Identify the test statistic.</b>\n",
    "<p>Here we have three groups. Analysis of variance can determine whether the means of three or more groups are different. ANOVA uses F-tests to statistically test the equality of means. The test method is <b>One Way Anova test</b>\n",
    "\n",
    "<b>Step-4: Compute the random chance of probability using ANOVA table.</b>"
   ]
  },
  {
   "cell_type": "code",
   "execution_count": 9,
   "metadata": {},
   "outputs": [
    {
     "name": "stderr",
     "output_type": "stream",
     "text": [
      "/Users/preneeth/anaconda3/lib/python3.6/site-packages/statsmodels/compat/pandas.py:56: FutureWarning: The pandas.core.datetools module is deprecated and will be removed in a future version. Please use the pandas.tseries module instead.\n",
      "  from pandas.core import datetools\n"
     ]
    },
    {
     "name": "stdout",
     "output_type": "stream",
     "text": [
      "                sum_sq     df         F    PR(>F)\n",
      "Children     24.590123    2.0  0.334472  0.715858\n",
      "Residual  20695.661583  563.0       NaN       NaN\n"
     ]
    }
   ],
   "source": [
    "import statsmodels.api         as     sm\n",
    "from   statsmodels.formula.api import ols\n",
    " \n",
    "mod = ols('BMI ~ Children', data = mean_bmi_df).fit()\n",
    "aov_table = sm.stats.anova_lm(mod, typ=2)\n",
    "print(aov_table)"
   ]
  },
  {
   "cell_type": "markdown",
   "metadata": {},
   "source": [
    "<b>Step-5 : Make Decision</b>\n",
    "\n",
    "In this example, p value is 0.715858 and it is greater than our chosen level of signifance at 5%\n",
    "\n",
    "So the statistical decision is to <b>fail to reject null hypothesis</b> at 5% level of significance.\n",
    "\n",
    "#### So we fail to reject that females  with 0, 1, 2 children have same bmi ####"
   ]
  },
  {
   "cell_type": "code",
   "execution_count": null,
   "metadata": {
    "collapsed": true
   },
   "outputs": [],
   "source": []
  }
 ],
 "metadata": {
  "kernelspec": {
   "display_name": "Python 3",
   "language": "python",
   "name": "python3"
  },
  "language_info": {
   "codemirror_mode": {
    "name": "ipython",
    "version": 3
   },
   "file_extension": ".py",
   "mimetype": "text/x-python",
   "name": "python",
   "nbconvert_exporter": "python",
   "pygments_lexer": "ipython3",
   "version": "3.6.3"
  }
 },
 "nbformat": 4,
 "nbformat_minor": 2
}
