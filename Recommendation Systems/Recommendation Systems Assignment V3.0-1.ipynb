{
 "cells": [
  {
   "cell_type": "markdown",
   "metadata": {},
   "source": [
    "## Assignment for Recommendation Systems\n",
    "<b>Name: Preneeth O <br>\n",
    "Batch: 11</b>"
   ]
  },
  {
   "cell_type": "markdown",
   "metadata": {},
   "source": [
    "## Introduction ##\n",
    "\n",
    "Build a recommendation system to recommend products to customers based on the their previous ratings for other products.\n",
    "\n",
    "\n",
    "Dataset: <a https://olympus.greatlearning.in/courses/6628/files/359268/download?verifier=Z5A0IUiGXfBHy85UuNvwkLGoUejdqi6k5gKQPQJ3&wrap=1>ratings_Electronics.csv</a>"
   ]
  },
  {
   "cell_type": "markdown",
   "metadata": {},
   "source": [
    "### 1. Import all the necessary libraries"
   ]
  },
  {
   "cell_type": "code",
   "execution_count": 1,
   "metadata": {
    "collapsed": true
   },
   "outputs": [],
   "source": [
    "#!pip install surprise"
   ]
  },
  {
   "cell_type": "code",
   "execution_count": 2,
   "metadata": {
    "collapsed": true
   },
   "outputs": [],
   "source": [
    "#Load Libraries\n",
    "import pandas as pd\n",
    "import numpy as np\n",
    "import matplotlib as mpl\n",
    "import matplotlib.pyplot as plt\n",
    "\n",
    "import surprise\n",
    "from surprise import KNNWithMeans\n",
    "from surprise import Dataset\n",
    "from surprise import accuracy\n",
    "from surprise import Reader, Dataset\n",
    "from surprise.model_selection import train_test_split\n",
    "\n",
    "#import statsmodels.api as sm\n",
    "from sklearn import metrics\n",
    "from sklearn import datasets\n",
    "import seaborn as sn\n",
    "\n",
    "%matplotlib inline\n",
    "sn.set(color_codes = True)"
   ]
  },
  {
   "cell_type": "markdown",
   "metadata": {},
   "source": [
    "### 2. Load the Data & Perform basic EDA"
   ]
  },
  {
   "cell_type": "code",
   "execution_count": 3,
   "metadata": {},
   "outputs": [
    {
     "data": {
      "text/html": [
       "<div>\n",
       "<table border=\"1\" class=\"dataframe\">\n",
       "  <thead>\n",
       "    <tr style=\"text-align: right;\">\n",
       "      <th></th>\n",
       "      <th>UserId</th>\n",
       "      <th>ProductId</th>\n",
       "      <th>Rating</th>\n",
       "      <th>Timestamp</th>\n",
       "    </tr>\n",
       "  </thead>\n",
       "  <tbody>\n",
       "    <tr>\n",
       "      <th>0</th>\n",
       "      <td>A2CX7LUOHB2NDG</td>\n",
       "      <td>0321732944</td>\n",
       "      <td>5.0</td>\n",
       "      <td>1341100800</td>\n",
       "    </tr>\n",
       "    <tr>\n",
       "      <th>1</th>\n",
       "      <td>A2NWSAGRHCP8N5</td>\n",
       "      <td>0439886341</td>\n",
       "      <td>1.0</td>\n",
       "      <td>1367193600</td>\n",
       "    </tr>\n",
       "    <tr>\n",
       "      <th>2</th>\n",
       "      <td>A2WNBOD3WNDNKT</td>\n",
       "      <td>0439886341</td>\n",
       "      <td>3.0</td>\n",
       "      <td>1374451200</td>\n",
       "    </tr>\n",
       "    <tr>\n",
       "      <th>3</th>\n",
       "      <td>A1GI0U4ZRJA8WN</td>\n",
       "      <td>0439886341</td>\n",
       "      <td>1.0</td>\n",
       "      <td>1334707200</td>\n",
       "    </tr>\n",
       "    <tr>\n",
       "      <th>4</th>\n",
       "      <td>A1QGNMC6O1VW39</td>\n",
       "      <td>0511189877</td>\n",
       "      <td>5.0</td>\n",
       "      <td>1397433600</td>\n",
       "    </tr>\n",
       "  </tbody>\n",
       "</table>\n",
       "</div>"
      ],
      "text/plain": [
       "           UserId   ProductId  Rating   Timestamp\n",
       "0  A2CX7LUOHB2NDG  0321732944     5.0  1341100800\n",
       "1  A2NWSAGRHCP8N5  0439886341     1.0  1367193600\n",
       "2  A2WNBOD3WNDNKT  0439886341     3.0  1374451200\n",
       "3  A1GI0U4ZRJA8WN  0439886341     1.0  1334707200\n",
       "4  A1QGNMC6O1VW39  0511189877     5.0  1397433600"
      ]
     },
     "execution_count": 3,
     "metadata": {},
     "output_type": "execute_result"
    }
   ],
   "source": [
    "dataSet = pd.read_csv('ratings_Electronics.csv')\n",
    "dataSet.columns = ['UserId', 'ProductId', 'Rating', 'Timestamp']\n",
    "dataSet.head()"
   ]
  },
  {
   "cell_type": "code",
   "execution_count": 4,
   "metadata": {},
   "outputs": [
    {
     "data": {
      "text/plain": [
       "(7824481, 4)"
      ]
     },
     "execution_count": 4,
     "metadata": {},
     "output_type": "execute_result"
    }
   ],
   "source": [
    "dataSet.shape"
   ]
  },
  {
   "cell_type": "markdown",
   "metadata": {},
   "source": [
    "There are 7 Million records with 4 columns"
   ]
  },
  {
   "cell_type": "code",
   "execution_count": 5,
   "metadata": {},
   "outputs": [
    {
     "name": "stdout",
     "output_type": "stream",
     "text": [
      "<class 'pandas.core.frame.DataFrame'>\n",
      "RangeIndex: 7824481 entries, 0 to 7824480\n",
      "Data columns (total 4 columns):\n",
      "UserId       object\n",
      "ProductId    object\n",
      "Rating       float64\n",
      "Timestamp    int64\n",
      "dtypes: float64(1), int64(1), object(2)\n",
      "memory usage: 238.8+ MB\n"
     ]
    }
   ],
   "source": [
    "# Check the datatypes.\n",
    "dataSet.info()"
   ]
  },
  {
   "cell_type": "code",
   "execution_count": 6,
   "metadata": {},
   "outputs": [
    {
     "data": {
      "text/html": [
       "<div>\n",
       "<table border=\"1\" class=\"dataframe\">\n",
       "  <thead>\n",
       "    <tr style=\"text-align: right;\">\n",
       "      <th></th>\n",
       "      <th>UserId</th>\n",
       "      <th>ProductId</th>\n",
       "      <th>Rating</th>\n",
       "      <th>Timestamp</th>\n",
       "    </tr>\n",
       "  </thead>\n",
       "  <tbody>\n",
       "    <tr>\n",
       "      <th>0</th>\n",
       "      <td>A2CX7LUOHB2NDG</td>\n",
       "      <td>0321732944</td>\n",
       "      <td>5.0</td>\n",
       "      <td>1341100800</td>\n",
       "    </tr>\n",
       "    <tr>\n",
       "      <th>1</th>\n",
       "      <td>A2NWSAGRHCP8N5</td>\n",
       "      <td>0439886341</td>\n",
       "      <td>1.0</td>\n",
       "      <td>1367193600</td>\n",
       "    </tr>\n",
       "    <tr>\n",
       "      <th>2</th>\n",
       "      <td>A2WNBOD3WNDNKT</td>\n",
       "      <td>0439886341</td>\n",
       "      <td>3.0</td>\n",
       "      <td>1374451200</td>\n",
       "    </tr>\n",
       "    <tr>\n",
       "      <th>3</th>\n",
       "      <td>A1GI0U4ZRJA8WN</td>\n",
       "      <td>0439886341</td>\n",
       "      <td>1.0</td>\n",
       "      <td>1334707200</td>\n",
       "    </tr>\n",
       "    <tr>\n",
       "      <th>4</th>\n",
       "      <td>A1QGNMC6O1VW39</td>\n",
       "      <td>0511189877</td>\n",
       "      <td>5.0</td>\n",
       "      <td>1397433600</td>\n",
       "    </tr>\n",
       "  </tbody>\n",
       "</table>\n",
       "</div>"
      ],
      "text/plain": [
       "           UserId   ProductId  Rating   Timestamp\n",
       "0  A2CX7LUOHB2NDG  0321732944     5.0  1341100800\n",
       "1  A2NWSAGRHCP8N5  0439886341     1.0  1367193600\n",
       "2  A2WNBOD3WNDNKT  0439886341     3.0  1374451200\n",
       "3  A1GI0U4ZRJA8WN  0439886341     1.0  1334707200\n",
       "4  A1QGNMC6O1VW39  0511189877     5.0  1397433600"
      ]
     },
     "execution_count": 6,
     "metadata": {},
     "output_type": "execute_result"
    }
   ],
   "source": [
    "dataSet.head(5)"
   ]
  },
  {
   "cell_type": "code",
   "execution_count": 7,
   "metadata": {},
   "outputs": [
    {
     "data": {
      "text/plain": [
       "<matplotlib.axes._subplots.AxesSubplot at 0x11f853f98>"
      ]
     },
     "execution_count": 7,
     "metadata": {},
     "output_type": "execute_result"
    },
    {
     "data": {
      "image/png": "[encoded data removed]",
      "text/plain": [
       "<matplotlib.figure.Figure at 0x1165fcfd0>"
      ]
     },
     "metadata": {},
     "output_type": "display_data"
    }
   ],
   "source": [
    "sn.countplot(dataSet.Rating)"
   ]
  },
  {
   "cell_type": "code",
   "execution_count": 8,
   "metadata": {},
   "outputs": [
    {
     "data": {
      "text/plain": [
       "ProductId\n",
       "BT008V9J9U    5.0\n",
       "B0058PRC0S    5.0\n",
       "B0058ORBFU    5.0\n",
       "B0058OQ9Q2    5.0\n",
       "B0058OKSMS    5.0\n",
       "Name: Rating, dtype: float64"
      ]
     },
     "execution_count": 8,
     "metadata": {},
     "output_type": "execute_result"
    }
   ],
   "source": [
    "# Average Rating of each product.\n",
    "dataSet.groupby('ProductId')['Rating'].mean().sort_values(ascending=False).head()"
   ]
  },
  {
   "cell_type": "markdown",
   "metadata": {},
   "source": [
    "The products have now been sorted according to the ascending order of their ratings. However, there is a problem. A product can make it to the top of the above list even if only a single user has given it five stars. Therefore, the above stats can be misleading. Normally, a product which is really a good one gets a higher rating by a large number of users."
   ]
  },
  {
   "cell_type": "code",
   "execution_count": 9,
   "metadata": {},
   "outputs": [
    {
     "data": {
      "text/plain": [
       "ProductId\n",
       "B0074BW614    18244\n",
       "B00DR0PDNE    16454\n",
       "B007WTAJTO    14172\n",
       "B0019EHU8G    12285\n",
       "B006GWO5WK    12226\n",
       "Name: Rating, dtype: int64"
      ]
     },
     "execution_count": 9,
     "metadata": {},
     "output_type": "execute_result"
    }
   ],
   "source": [
    "# Count of Rating for each product.\n",
    "dataSet.groupby('ProductId')['Rating'].count().sort_values(ascending=False).head()"
   ]
  },
  {
   "cell_type": "markdown",
   "metadata": {},
   "source": [
    "There are products with lot of ratings. Top rated products will normaly have lot of ratings. Now we know that both the average rating per product and the number of ratings per product are important attributes. Let's create a new dataframe that contains both of these attributes."
   ]
  },
  {
   "cell_type": "code",
   "execution_count": 10,
   "metadata": {},
   "outputs": [
    {
     "data": {
      "text/html": [
       "<div>\n",
       "<table border=\"1\" class=\"dataframe\">\n",
       "  <thead>\n",
       "    <tr style=\"text-align: right;\">\n",
       "      <th></th>\n",
       "      <th>Rating</th>\n",
       "      <th>rating_counts</th>\n",
       "    </tr>\n",
       "    <tr>\n",
       "      <th>ProductId</th>\n",
       "      <th></th>\n",
       "      <th></th>\n",
       "    </tr>\n",
       "  </thead>\n",
       "  <tbody>\n",
       "    <tr>\n",
       "      <th>0321732944</th>\n",
       "      <td>5.000000</td>\n",
       "      <td>1</td>\n",
       "    </tr>\n",
       "    <tr>\n",
       "      <th>0439886341</th>\n",
       "      <td>1.666667</td>\n",
       "      <td>3</td>\n",
       "    </tr>\n",
       "    <tr>\n",
       "      <th>0511189877</th>\n",
       "      <td>4.500000</td>\n",
       "      <td>6</td>\n",
       "    </tr>\n",
       "    <tr>\n",
       "      <th>0528881469</th>\n",
       "      <td>2.851852</td>\n",
       "      <td>27</td>\n",
       "    </tr>\n",
       "    <tr>\n",
       "      <th>0558835155</th>\n",
       "      <td>3.000000</td>\n",
       "      <td>1</td>\n",
       "    </tr>\n",
       "  </tbody>\n",
       "</table>\n",
       "</div>"
      ],
      "text/plain": [
       "              Rating  rating_counts\n",
       "ProductId                          \n",
       "0321732944  5.000000              1\n",
       "0439886341  1.666667              3\n",
       "0511189877  4.500000              6\n",
       "0528881469  2.851852             27\n",
       "0558835155  3.000000              1"
      ]
     },
     "execution_count": 10,
     "metadata": {},
     "output_type": "execute_result"
    }
   ],
   "source": [
    "ratings_mean_count = pd.DataFrame(dataSet.groupby('ProductId')['Rating'].mean())\n",
    "ratings_mean_count['rating_counts'] = pd.DataFrame(dataSet.groupby('ProductId')['Rating'].count())\n",
    "ratings_mean_count.head()"
   ]
  },
  {
   "cell_type": "markdown",
   "metadata": {},
   "source": [
    "You can see product, along with the average rating and number of ratings for the product."
   ]
  },
  {
   "cell_type": "code",
   "execution_count": 11,
   "metadata": {},
   "outputs": [
    {
     "data": {
      "text/plain": [
       "<matplotlib.axes._subplots.AxesSubplot at 0x10d3dc4e0>"
      ]
     },
     "execution_count": 11,
     "metadata": {},
     "output_type": "execute_result"
    },
    {
     "data": {
      "image/png": "[encoded data removed]",
      "text/plain": [
       "<matplotlib.figure.Figure at 0x10d3d08d0>"
      ]
     },
     "metadata": {},
     "output_type": "display_data"
    }
   ],
   "source": [
    "#Plot a histogram for the number of ratings represented by the \"rating_counts\" column in the above dataframe.\n",
    "\n",
    "plt.figure(figsize=(8,6))\n",
    "plt.rcParams['patch.force_edgecolor'] = True\n",
    "ratings_mean_count['rating_counts'].hist(bins=50)"
   ]
  },
  {
   "cell_type": "code",
   "execution_count": 12,
   "metadata": {},
   "outputs": [
    {
     "name": "stdout",
     "output_type": "stream",
     "text": [
      "Ratings count less than 25 is 427827 \n",
      "Ratings count greater than equal to 25 is 48174 \n",
      "Ratings count less than 100 is 13077 \n"
     ]
    }
   ],
   "source": [
    "print (\"Ratings count less than 25 is {} \".format(ratings_mean_count[ratings_mean_count['rating_counts'] < 25].shape[0]))\n",
    "print (\"Ratings count greater than equal to 25 is {} \".format(ratings_mean_count[ratings_mean_count['rating_counts'] >= 25].shape[0]))\n",
    "print (\"Ratings count less than 100 is {} \".format(ratings_mean_count[ratings_mean_count['rating_counts'] > 100].shape[0]))"
   ]
  },
  {
   "cell_type": "markdown",
   "metadata": {},
   "source": [
    "<b>Findings</b>\n",
    "\n",
    "* Most of the products have received less than 25 ratings. While the number of movies having more than 100 ratings is very low."
   ]
  },
  {
   "cell_type": "code",
   "execution_count": 13,
   "metadata": {},
   "outputs": [
    {
     "data": {
      "text/plain": [
       "<matplotlib.axes._subplots.AxesSubplot at 0x11fc2bcc0>"
      ]
     },
     "execution_count": 13,
     "metadata": {},
     "output_type": "execute_result"
    },
    {
     "data": {
      "image/png": "[encoded data removed]",
      "text/plain": [
       "<matplotlib.figure.Figure at 0x11fc594a8>"
      ]
     },
     "metadata": {},
     "output_type": "display_data"
    }
   ],
   "source": [
    "#Plot a histogram for the mean ratings represented by the \"Rating\" column in the above dataframe.\n",
    "\n",
    "plt.figure(figsize=(8,6))\n",
    "plt.rcParams['patch.force_edgecolor'] = True\n",
    "ratings_mean_count['Rating'].hist(bins=50)"
   ]
  },
  {
   "cell_type": "markdown",
   "metadata": {},
   "source": [
    "<b>Findings</b>\n",
    "\n",
    "* There are large number of movies with 4 & 5 ratings.\n",
    "* We need to see if the number of ratings for high ratings is also high."
   ]
  },
  {
   "cell_type": "code",
   "execution_count": 14,
   "metadata": {},
   "outputs": [
    {
     "data": {
      "text/plain": [
       "<seaborn.axisgrid.JointGrid at 0x1200d0320>"
      ]
     },
     "execution_count": 14,
     "metadata": {},
     "output_type": "execute_result"
    },
    {
     "data": {
      "text/plain": [
       "<matplotlib.figure.Figure at 0x11fff3ef0>"
      ]
     },
     "metadata": {},
     "output_type": "display_data"
    },
    {
     "data": {
      "image/png": "[encoded data removed]",
      "text/plain": [
       "<matplotlib.figure.Figure at 0x1200d02b0>"
      ]
     },
     "metadata": {},
     "output_type": "display_data"
    }
   ],
   "source": [
    "# Plot average ratings against the number of ratings:\n",
    "plt.figure(figsize=(8,6))\n",
    "plt.rcParams['patch.force_edgecolor'] = True\n",
    "sn.jointplot(x='Rating', y='rating_counts', data=ratings_mean_count, alpha=0.4)"
   ]
  },
  {
   "cell_type": "markdown",
   "metadata": {},
   "source": [
    "<b>Findings</b>\n",
    "\n",
    "* From this we can conclude that products with high average rating will have more number of user ratings."
   ]
  },
  {
   "cell_type": "markdown",
   "metadata": {},
   "source": [
    "### 3. Clean up data; Prepare data for Modeling"
   ]
  },
  {
   "cell_type": "code",
   "execution_count": 15,
   "metadata": {},
   "outputs": [
    {
     "data": {
      "text/plain": [
       "A33ZV3RF86H0WN    1\n",
       "A1HXFF5AZIK5JK    1\n",
       "A2Y3EOB732NXZN    1\n",
       "A3ELXP44GY9U32    1\n",
       "A3DDHPRC672YGT    1\n",
       "Name: UserId, dtype: int64"
      ]
     },
     "execution_count": 15,
     "metadata": {},
     "output_type": "execute_result"
    }
   ],
   "source": [
    "counts=dataSet.UserId.value_counts()\n",
    "counts.sort_values(ascending=True).head()"
   ]
  },
  {
   "cell_type": "markdown",
   "metadata": {},
   "source": [
    "<b>Findings</b>\n",
    "\n",
    "There a lot of users who have provided very few ratings. Considering the entries from these users may not contribute much to the recommendation system we want to build, we may drop all users who have rated less than 50 times"
   ]
  },
  {
   "cell_type": "code",
   "execution_count": 16,
   "metadata": {},
   "outputs": [
    {
     "data": {
      "text/plain": [
       "(125871, 4)"
      ]
     },
     "execution_count": 16,
     "metadata": {},
     "output_type": "execute_result"
    }
   ],
   "source": [
    "dataSet_filtered=dataSet[dataSet['UserId'].isin(counts[counts >= 50].index)]\n",
    "dataSet_filtered.shape"
   ]
  },
  {
   "cell_type": "markdown",
   "metadata": {},
   "source": [
    "<b>Findings</b>\n",
    "\n",
    "Total records have been reduced from 7824481 to 125871, by eliminating all users who have rated less than 50 times"
   ]
  },
  {
   "cell_type": "markdown",
   "metadata": {},
   "source": [
    "### 4.  Build Popularity Recommender model\n",
    "\n",
    "* Create a DataFrame grouped based on Product and Ratings. Based on the number of user ratings, Rank the data\n",
    "* Get 5 Top 5 ranked Products from the list\n",
    "* Show the same list for all users."
   ]
  },
  {
   "cell_type": "markdown",
   "metadata": {},
   "source": [
    "### 4.1 Find the Top Rated Products"
   ]
  },
  {
   "cell_type": "code",
   "execution_count": 17,
   "metadata": {},
   "outputs": [
    {
     "data": {
      "text/html": [
       "<div>\n",
       "<table border=\"1\" class=\"dataframe\">\n",
       "  <thead>\n",
       "    <tr style=\"text-align: right;\">\n",
       "      <th></th>\n",
       "      <th>ProductId</th>\n",
       "      <th>Rating</th>\n",
       "      <th>#Users</th>\n",
       "    </tr>\n",
       "  </thead>\n",
       "  <tbody>\n",
       "    <tr>\n",
       "      <th>0</th>\n",
       "      <td>0594451647</td>\n",
       "      <td>5.0</td>\n",
       "      <td>1</td>\n",
       "    </tr>\n",
       "    <tr>\n",
       "      <th>1</th>\n",
       "      <td>0594481813</td>\n",
       "      <td>3.0</td>\n",
       "      <td>1</td>\n",
       "    </tr>\n",
       "    <tr>\n",
       "      <th>2</th>\n",
       "      <td>0970407998</td>\n",
       "      <td>1.0</td>\n",
       "      <td>1</td>\n",
       "    </tr>\n",
       "    <tr>\n",
       "      <th>3</th>\n",
       "      <td>0970407998</td>\n",
       "      <td>4.0</td>\n",
       "      <td>1</td>\n",
       "    </tr>\n",
       "    <tr>\n",
       "      <th>4</th>\n",
       "      <td>0972683275</td>\n",
       "      <td>4.0</td>\n",
       "      <td>1</td>\n",
       "    </tr>\n",
       "  </tbody>\n",
       "</table>\n",
       "</div>"
      ],
      "text/plain": [
       "    ProductId  Rating  #Users\n",
       "0  0594451647     5.0       1\n",
       "1  0594481813     3.0       1\n",
       "2  0970407998     1.0       1\n",
       "3  0970407998     4.0       1\n",
       "4  0972683275     4.0       1"
      ]
     },
     "execution_count": 17,
     "metadata": {},
     "output_type": "execute_result"
    }
   ],
   "source": [
    "filteredDataSet_grouped = dataSet_filtered.groupby(['ProductId','Rating']).agg({'UserId': 'count'}).reset_index()\n",
    "filteredDataSet_grouped.rename(columns = {'UserId': '#Users'},inplace=True)\n",
    "#train_data_grouped['score'] = train_data_grouped['Rating'] * train_data_grouped['#Users']\n",
    "filteredDataSet_grouped.head()"
   ]
  },
  {
   "cell_type": "code",
   "execution_count": 18,
   "metadata": {},
   "outputs": [
    {
     "data": {
      "text/html": [
       "<div>\n",
       "<table border=\"1\" class=\"dataframe\">\n",
       "  <thead>\n",
       "    <tr style=\"text-align: right;\">\n",
       "      <th></th>\n",
       "      <th>ProductId</th>\n",
       "      <th>Rating</th>\n",
       "      <th>#Users</th>\n",
       "      <th>Rank</th>\n",
       "    </tr>\n",
       "  </thead>\n",
       "  <tbody>\n",
       "    <tr>\n",
       "      <th>33926</th>\n",
       "      <td>B003ES5ZUU</td>\n",
       "      <td>5.0</td>\n",
       "      <td>165</td>\n",
       "      <td>1.0</td>\n",
       "    </tr>\n",
       "    <tr>\n",
       "      <th>53202</th>\n",
       "      <td>B007WTAJTO</td>\n",
       "      <td>5.0</td>\n",
       "      <td>135</td>\n",
       "      <td>2.0</td>\n",
       "    </tr>\n",
       "    <tr>\n",
       "      <th>14564</th>\n",
       "      <td>B000N99BBC</td>\n",
       "      <td>5.0</td>\n",
       "      <td>134</td>\n",
       "      <td>3.0</td>\n",
       "    </tr>\n",
       "    <tr>\n",
       "      <th>54261</th>\n",
       "      <td>B0088CJT4U</td>\n",
       "      <td>5.0</td>\n",
       "      <td>91</td>\n",
       "      <td>4.0</td>\n",
       "    </tr>\n",
       "    <tr>\n",
       "      <th>53733</th>\n",
       "      <td>B00829TIEK</td>\n",
       "      <td>5.0</td>\n",
       "      <td>87</td>\n",
       "      <td>5.0</td>\n",
       "    </tr>\n",
       "  </tbody>\n",
       "</table>\n",
       "</div>"
      ],
      "text/plain": [
       "        ProductId  Rating  #Users  Rank\n",
       "33926  B003ES5ZUU     5.0     165   1.0\n",
       "53202  B007WTAJTO     5.0     135   2.0\n",
       "14564  B000N99BBC     5.0     134   3.0\n",
       "54261  B0088CJT4U     5.0      91   4.0\n",
       "53733  B00829TIEK     5.0      87   5.0"
      ]
     },
     "execution_count": 18,
     "metadata": {},
     "output_type": "execute_result"
    }
   ],
   "source": [
    "#Sort the data \n",
    "filteredDataSet_sort = filteredDataSet_grouped.sort_values(['#Users', 'ProductId'], ascending = [0,1]) \n",
    "      \n",
    "#Generate a recommendation rank based upon number of users \n",
    "filteredDataSet_sort['Rank'] = filteredDataSet_sort['#Users'].rank(ascending=0, method='first') \n",
    "          \n",
    "#Get the top 5 recommendations \n",
    "popularity_recommendations = filteredDataSet_sort.head(5) \n",
    "popularity_recommendations "
   ]
  },
  {
   "cell_type": "markdown",
   "metadata": {},
   "source": [
    "### 4.2 List the Top 5 Recommended Products for selected Users"
   ]
  },
  {
   "cell_type": "code",
   "execution_count": 19,
   "metadata": {
    "collapsed": true
   },
   "outputs": [],
   "source": [
    "# Use popularity based recommender model to make predictions\n",
    "def recommend(user_id):  \n",
    "    '''Return the recommendation for given user id\n",
    "    Args:\n",
    "        user_id(String): User id for which recommendation to be identified\n",
    "        \n",
    "    Returns:\n",
    "    A DataFrame with product list containing - userID   ProductId  Rating  #Users  Rank\n",
    "    '''\n",
    "    user_recommendations = popularity_recommendations \n",
    "          \n",
    "    #Add user_id column for which the recommendations are being generated \n",
    "    user_recommendations['userID'] = user_id \n",
    "      \n",
    "    #Bring user_id column to the front \n",
    "    cols = user_recommendations.columns.tolist() \n",
    "    cols = cols[-1:] + cols[:-1] \n",
    "    user_recommendations = user_recommendations[cols] \n",
    "          \n",
    "    return user_recommendations "
   ]
  },
  {
   "cell_type": "code",
   "execution_count": 20,
   "metadata": {
    "collapsed": true
   },
   "outputs": [],
   "source": [
    "def getPopularityReco(find_recom):\n",
    "    '''Prints the recommended products for given users list\n",
    "    Args:\n",
    "        find_recom(List): User ids for which recommendation to be printed\n",
    "        \n",
    "    Returns:\n",
    "    None\n",
    "    '''\n",
    "    for i in find_recom:\n",
    "        print(\"Here is the recommendation for the userId: {}\\n\".format(i))\n",
    "        print(recommend(i))    \n",
    "        print(\"\\n\") \n",
    "        \n"
   ]
  },
  {
   "cell_type": "code",
   "execution_count": 21,
   "metadata": {
    "scrolled": true
   },
   "outputs": [
    {
     "name": "stdout",
     "output_type": "stream",
     "text": [
      "Here is the recommendation for the userId: A1PVX61PRPVX27\n",
      "\n",
      "               userID   ProductId  Rating  #Users  Rank\n",
      "33926  A1PVX61PRPVX27  B003ES5ZUU     5.0     165   1.0\n",
      "53202  A1PVX61PRPVX27  B007WTAJTO     5.0     135   2.0\n",
      "14564  A1PVX61PRPVX27  B000N99BBC     5.0     134   3.0\n",
      "54261  A1PVX61PRPVX27  B0088CJT4U     5.0      91   4.0\n",
      "53733  A1PVX61PRPVX27  B00829TIEK     5.0      87   5.0\n",
      "\n",
      "\n",
      "Here is the recommendation for the userId: A17RFKCYS69M3Y\n",
      "\n",
      "               userID   ProductId  Rating  #Users  Rank\n",
      "33926  A17RFKCYS69M3Y  B003ES5ZUU     5.0     165   1.0\n",
      "53202  A17RFKCYS69M3Y  B007WTAJTO     5.0     135   2.0\n",
      "14564  A17RFKCYS69M3Y  B000N99BBC     5.0     134   3.0\n",
      "54261  A17RFKCYS69M3Y  B0088CJT4U     5.0      91   4.0\n",
      "53733  A17RFKCYS69M3Y  B00829TIEK     5.0      87   5.0\n",
      "\n",
      "\n",
      "Here is the recommendation for the userId: A1EXGL6L0QQ0M5\n",
      "\n",
      "               userID   ProductId  Rating  #Users  Rank\n",
      "33926  A1EXGL6L0QQ0M5  B003ES5ZUU     5.0     165   1.0\n",
      "53202  A1EXGL6L0QQ0M5  B007WTAJTO     5.0     135   2.0\n",
      "14564  A1EXGL6L0QQ0M5  B000N99BBC     5.0     134   3.0\n",
      "54261  A1EXGL6L0QQ0M5  B0088CJT4U     5.0      91   4.0\n",
      "53733  A1EXGL6L0QQ0M5  B00829TIEK     5.0      87   5.0\n",
      "\n",
      "\n"
     ]
    },
    {
     "name": "stderr",
     "output_type": "stream",
     "text": [
      "/Users/preneeth/anaconda3/lib/python3.6/site-packages/ipykernel_launcher.py:13: SettingWithCopyWarning: \n",
      "A value is trying to be set on a copy of a slice from a DataFrame.\n",
      "Try using .loc[row_indexer,col_indexer] = value instead\n",
      "\n",
      "See the caveats in the documentation: http://pandas.pydata.org/pandas-docs/stable/indexing.html#indexing-view-versus-copy\n",
      "  del sys.path[0]\n"
     ]
    }
   ],
   "source": [
    "find_recom = ['A1PVX61PRPVX27','A17RFKCYS69M3Y','A1EXGL6L0QQ0M5']   # This list is user choice.\n",
    "getPopularityReco(find_recom)"
   ]
  },
  {
   "cell_type": "markdown",
   "metadata": {},
   "source": [
    "<b>Findings:</b>\n",
    "* From the above popularity recommendation model, we can see top 5 recommenations is provided for each user\n",
    "* The recommandation is same for all users.\n",
    "* It is a drawback of popularity recommendation model, it does not personalize recommendations to user specific."
   ]
  },
  {
   "cell_type": "markdown",
   "metadata": {
    "collapsed": true
   },
   "source": [
    "### 5.  Build Collaborative Filtering model.\n",
    "\n",
    "* Create various models and list the performance of the model based on RMSE\n",
    "* Pick the best model and get the recommendations for each user."
   ]
  },
  {
   "cell_type": "markdown",
   "metadata": {},
   "source": [
    "### 5.1 Create Models and check Performance"
   ]
  },
  {
   "cell_type": "code",
   "execution_count": 22,
   "metadata": {
    "collapsed": true
   },
   "outputs": [],
   "source": [
    "\n",
    "reader = Reader(rating_scale=(1, 5))\n",
    "# The columns must correspond to user id, product id and ratings (in that order).\n",
    "data = Dataset.load_from_df(dataSet_filtered[['UserId', 'ProductId', 'Rating']], reader)\n"
   ]
  },
  {
   "cell_type": "code",
   "execution_count": 23,
   "metadata": {},
   "outputs": [
    {
     "name": "stdout",
     "output_type": "stream",
     "text": [
      "<surprise.prediction_algorithms.matrix_factorization.SVD object at 0x12097d588>\n",
      "<surprise.prediction_algorithms.random_pred.NormalPredictor object at 0x1200ca4e0>\n",
      "Estimating biases using als...\n",
      "Computing the msd similarity matrix...\n",
      "Done computing similarity matrix.\n",
      "Estimating biases using als...\n",
      "Computing the msd similarity matrix...\n",
      "Done computing similarity matrix.\n",
      "Estimating biases using als...\n",
      "Computing the msd similarity matrix...\n",
      "Done computing similarity matrix.\n",
      "<surprise.prediction_algorithms.knns.KNNBaseline object at 0x1200ca748>\n",
      "Computing the msd similarity matrix...\n",
      "Done computing similarity matrix.\n",
      "Computing the msd similarity matrix...\n",
      "Done computing similarity matrix.\n",
      "Computing the msd similarity matrix...\n",
      "Done computing similarity matrix.\n",
      "<surprise.prediction_algorithms.knns.KNNBasic object at 0x1200ca240>\n",
      "Computing the msd similarity matrix...\n",
      "Done computing similarity matrix.\n",
      "Computing the msd similarity matrix...\n",
      "Done computing similarity matrix.\n",
      "Computing the msd similarity matrix...\n",
      "Done computing similarity matrix.\n",
      "<surprise.prediction_algorithms.knns.KNNWithMeans object at 0x1211364e0>\n",
      "Computing the msd similarity matrix...\n",
      "Done computing similarity matrix.\n",
      "Computing the msd similarity matrix...\n",
      "Done computing similarity matrix.\n",
      "Computing the msd similarity matrix...\n",
      "Done computing similarity matrix.\n",
      "<surprise.prediction_algorithms.knns.KNNWithZScore object at 0x121136d30>\n",
      "Estimating biases using als...\n",
      "Estimating biases using als...\n",
      "Estimating biases using als...\n",
      "<surprise.prediction_algorithms.baseline_only.BaselineOnly object at 0x121136240>\n"
     ]
    },
    {
     "data": {
      "text/html": [
       "<div>\n",
       "<table border=\"1\" class=\"dataframe\">\n",
       "  <thead>\n",
       "    <tr style=\"text-align: right;\">\n",
       "      <th></th>\n",
       "      <th>fit_time</th>\n",
       "      <th>test_rmse</th>\n",
       "      <th>test_time</th>\n",
       "    </tr>\n",
       "    <tr>\n",
       "      <th>Algorithm</th>\n",
       "      <th></th>\n",
       "      <th></th>\n",
       "      <th></th>\n",
       "    </tr>\n",
       "  </thead>\n",
       "  <tbody>\n",
       "    <tr>\n",
       "      <th>BaselineOnly</th>\n",
       "      <td>0.397752</td>\n",
       "      <td>0.983066</td>\n",
       "      <td>0.240625</td>\n",
       "    </tr>\n",
       "    <tr>\n",
       "      <th>SVD</th>\n",
       "      <td>5.964049</td>\n",
       "      <td>0.986841</td>\n",
       "      <td>0.451717</td>\n",
       "    </tr>\n",
       "    <tr>\n",
       "      <th>KNNBaseline</th>\n",
       "      <td>0.548640</td>\n",
       "      <td>1.045284</td>\n",
       "      <td>1.078366</td>\n",
       "    </tr>\n",
       "    <tr>\n",
       "      <th>KNNWithMeans</th>\n",
       "      <td>0.207791</td>\n",
       "      <td>1.067574</td>\n",
       "      <td>0.856064</td>\n",
       "    </tr>\n",
       "    <tr>\n",
       "      <th>KNNWithZScore</th>\n",
       "      <td>0.283273</td>\n",
       "      <td>1.067681</td>\n",
       "      <td>1.055564</td>\n",
       "    </tr>\n",
       "    <tr>\n",
       "      <th>KNNBasic</th>\n",
       "      <td>0.166136</td>\n",
       "      <td>1.113985</td>\n",
       "      <td>0.910249</td>\n",
       "    </tr>\n",
       "    <tr>\n",
       "      <th>NormalPredictor</th>\n",
       "      <td>0.159627</td>\n",
       "      <td>1.366504</td>\n",
       "      <td>0.451553</td>\n",
       "    </tr>\n",
       "  </tbody>\n",
       "</table>\n",
       "</div>"
      ],
      "text/plain": [
       "                 fit_time  test_rmse  test_time\n",
       "Algorithm                                      \n",
       "BaselineOnly     0.397752   0.983066   0.240625\n",
       "SVD              5.964049   0.986841   0.451717\n",
       "KNNBaseline      0.548640   1.045284   1.078366\n",
       "KNNWithMeans     0.207791   1.067574   0.856064\n",
       "KNNWithZScore    0.283273   1.067681   1.055564\n",
       "KNNBasic         0.166136   1.113985   0.910249\n",
       "NormalPredictor  0.159627   1.366504   0.451553"
      ]
     },
     "execution_count": 23,
     "metadata": {},
     "output_type": "execute_result"
    }
   ],
   "source": [
    "from surprise.model_selection import cross_validate\n",
    "from surprise import SVD, SlopeOne, NMF, CoClustering, NormalPredictor, KNNBaseline, KNNBasic, KNNWithZScore, KNNWithMeans, BaselineOnly\n",
    "\n",
    "benchmark = []\n",
    "# Iterate over all algorithms\n",
    "for algorithm in [SVD(), NormalPredictor(), KNNBaseline(), KNNBasic(), KNNWithMeans(), KNNWithZScore(), BaselineOnly()]:    # Perform cross validation\n",
    "#for algorithm in [SVD(), NMF()]:\n",
    " \n",
    "    results = cross_validate(algorithm, data, measures=['RMSE'], cv=3, verbose=False)\n",
    "    \n",
    "    # Get results & append algorithm name\n",
    "    tmp = pd.DataFrame.from_dict(results).mean(axis=0)\n",
    "    tmp = tmp.append(pd.Series([str(algorithm).split(' ')[0].split('.')[-1]], index=['Algorithm']))\n",
    "    benchmark.append(tmp)\n",
    "    print(algorithm)\n",
    "    \n",
    "pd.DataFrame(benchmark).set_index('Algorithm').sort_values('test_rmse')  "
   ]
  },
  {
   "cell_type": "markdown",
   "metadata": {},
   "source": [
    "<b>Findings:</b>\n",
    "* From above we see that <b>BaselineOnly is the top performing model with least RMSE</b>. \n",
    "* Next run the BaselineOnly model to get recommendation for identified set of users."
   ]
  },
  {
   "cell_type": "markdown",
   "metadata": {},
   "source": [
    "### 5.2 Select the Best performing Model\n",
    "\n",
    "* BaselineOnly is the short listed model\n",
    "* Get Recommendations for each user by running through BaselineOnly model"
   ]
  },
  {
   "cell_type": "code",
   "execution_count": 24,
   "metadata": {},
   "outputs": [
    {
     "name": "stdout",
     "output_type": "stream",
     "text": [
      "Estimating biases using als...\n",
      "RMSE: 0.9821\n"
     ]
    },
    {
     "data": {
      "text/plain": [
       "0.9820697605659485"
      ]
     },
     "execution_count": 24,
     "metadata": {},
     "output_type": "execute_result"
    }
   ],
   "source": [
    "trainset, testset = train_test_split(data, test_size=0.25)\n",
    "bsl_options = {'method': 'als',\n",
    "               'n_epochs': 5,\n",
    "               'reg_u': 12,\n",
    "               'reg_i': 5\n",
    "               }\n",
    "algo = BaselineOnly(bsl_options=bsl_options)\n",
    "algo.fit(trainset)\n",
    "predictions = algo.test(testset)\n",
    "accuracy.rmse(predictions)"
   ]
  },
  {
   "cell_type": "code",
   "execution_count": 32,
   "metadata": {},
   "outputs": [],
   "source": [
    "from collections import defaultdict\n",
    "def get_top_n(predictions, n=5):\n",
    "    '''Return the top-N recommendation for each user from a set of predictions.\n",
    "    Args:\n",
    "        predictions(list of Prediction objects): The list of predictions, as\n",
    "            returned by the test method of an algorithm.\n",
    "        n(int): The number of recommendation to output for each user. Default\n",
    "            is 5.\n",
    "    Returns:\n",
    "    A dict where keys are userids and values are lists of tuples:\n",
    "        [(Product Id, rating estimation), ...] of size n.\n",
    "    '''\n",
    "\n",
    "    # First map the predictions to each user.\n",
    "    top_n = defaultdict(list)\n",
    "    for uid, iid, true_r, est, _ in predictions:\n",
    "        top_n[uid].append((iid, round(est,2)))\n",
    "\n",
    "    # Then sort the predictions for each user and retrieve the k highest ones.\n",
    "    for uid, user_ratings in top_n.items():\n",
    "        user_ratings.sort(key=lambda x: x[1], reverse=True)\n",
    "        top_n[uid] = user_ratings[:n]\n",
    "\n",
    "    return top_n"
   ]
  },
  {
   "cell_type": "code",
   "execution_count": 33,
   "metadata": {},
   "outputs": [
    {
     "name": "stdout",
     "output_type": "stream",
     "text": [
      "Recommendation for user id A1PVX61PRPVX27 is \n",
      "\n",
      "[('B00A35WYBA', 5), ('B00B4GGW5Q', 5), ('B007WTAJTO', 5), ('B0014XDBIA', 4.8), ('B00009RA60', 4.74)]\n"
     ]
    }
   ],
   "source": [
    "top_n = get_top_n(predictions, n=5)\n",
    "userId_check = str('A1PVX61PRPVX27')\n",
    "print (\"Recommendation for user id {} is \\n\\n{}\".format(userId_check, top_n.get(userId_check)))"
   ]
  },
  {
   "cell_type": "markdown",
   "metadata": {},
   "source": [
    "<b>Findings:</b>\n",
    "* User Id - A1PVX61PRPVX27gets personalized product recommendations, unlike popularity model which returns same recommendations for all users \n",
    "* Next run the BaselineOnly model to get recommendation for identified set of users."
   ]
  },
  {
   "cell_type": "markdown",
   "metadata": {},
   "source": [
    "### 5.3 List the Top 5 Recommended Products for selected Users"
   ]
  },
  {
   "cell_type": "code",
   "execution_count": 34,
   "metadata": {},
   "outputs": [
    {
     "name": "stdout",
     "output_type": "stream",
     "text": [
      "\n",
      "Here is the recommendation for the userId: A1PVX61PRPVX27\n",
      "\n",
      "    ProductId  Estimated Rating\n",
      "0  B00A35WYBA              5.00\n",
      "1  B00B4GGW5Q              5.00\n",
      "2  B007WTAJTO              5.00\n",
      "3  B0014XDBIA              4.80\n",
      "4  B00009RA60              4.74\n",
      "\n",
      "Here is the recommendation for the userId: A17RFKCYS69M3Y\n",
      "\n",
      "    ProductId  Estimated Rating\n",
      "0  B000BTL0OA              3.14\n",
      "1  B005CLMJLU              2.95\n",
      "2  B00005T3DP              2.89\n",
      "3  B0002JKGRQ              2.84\n",
      "4  B000FCN9UG              2.74\n",
      "\n",
      "Here is the recommendation for the userId: A1EXGL6L0QQ0M5\n",
      "\n",
      "    ProductId  Estimated Rating\n",
      "0  B008EQZ25K              4.88\n",
      "1  B004Y1AYAC              4.75\n",
      "2  B00429N18S              4.71\n",
      "3  B003Z4G3I6              4.69\n",
      "4  B005HQ50SO              4.64\n"
     ]
    }
   ],
   "source": [
    "find_recom = ['A1PVX61PRPVX27','A17RFKCYS69M3Y','A1EXGL6L0QQ0M5']  # This list is user choice.\n",
    "\n",
    "def getColabrativeReco(find_recom):\n",
    "    '''Prints the recommended products for given users list\n",
    "    Args:\n",
    "        find_recom(List): User ids for which recommendation to be printed\n",
    "        \n",
    "    Returns:\n",
    "    None\n",
    "    '''\n",
    "    for i in find_recom:\n",
    "        print(\"\\nHere is the recommendation for the userId: {}\\n\".format(i))\n",
    "        dfRec = pd.DataFrame(top_n.get((i)))\n",
    "        dfRec.columns = ['ProductId', 'Estimated Rating']\n",
    "        print(dfRec)\n",
    "\n",
    "\n",
    "getColabrativeReco(find_recom)"
   ]
  },
  {
   "cell_type": "markdown",
   "metadata": {},
   "source": [
    "### 6. Conclusion \n",
    "\n",
    "We have built 2 approaches <b>1) Popularity Recommender model 2) Collaborative Filtering model </b> and run both of them for same set of 3 users and below are findings based on the results\n",
    "\n",
    "* Popularity Recommender model - It recommended Top 5 Products but the <b>recommendations are same for all users</b>.\n",
    "* Collaborative Filtering model - It Top 5 <b>personalized recommendation for each user</b> based on their ratings given for other products and simalar user's ratings.\n",
    "\n",
    "So we can conclude that <b>Collaborative Filtering model is better </b> as it give a personalized recommendations to the users."
   ]
  }
 ],
 "metadata": {
  "kernelspec": {
   "display_name": "Python 3",
   "language": "python",
   "name": "python3"
  },
  "language_info": {
   "codemirror_mode": {
    "name": "ipython",
    "version": 3
   },
   "file_extension": ".py",
   "mimetype": "text/x-python",
   "name": "python",
   "nbconvert_exporter": "python",
   "pygments_lexer": "ipython3",
   "version": "3.6.3"
  }
 },
 "nbformat": 4,
 "nbformat_minor": 2
}
